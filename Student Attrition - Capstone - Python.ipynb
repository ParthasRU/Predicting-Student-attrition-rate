{
 "cells": [
  {
   "cell_type": "markdown",
   "metadata": {},
   "source": [
    "# Students early attrition - Capstone Project"
   ]
  },
  {
   "cell_type": "markdown",
   "metadata": {},
   "source": [
    "## Importing libraries"
   ]
  },
  {
   "cell_type": "code",
   "execution_count": 1,
   "metadata": {},
   "outputs": [],
   "source": [
    "import os\n",
    "import pandas as pd\n",
    "from pandas import DataFrame\n",
    "import numpy as np\n",
    "import seaborn as sns\n",
    "import matplotlib.pyplot as plt\n",
    "%matplotlib inline"
   ]
  },
  {
   "cell_type": "code",
   "execution_count": 2,
   "metadata": {},
   "outputs": [
    {
     "data": {
      "text/plain": [
       "'C:\\\\Users\\\\Dhivya\\\\Desktop\\\\Jigsaw FSDS\\\\Capstone project\\\\Python'"
      ]
     },
     "execution_count": 2,
     "metadata": {},
     "output_type": "execute_result"
    }
   ],
   "source": [
    "os.getcwd()"
   ]
  },
  {
   "cell_type": "markdown",
   "metadata": {},
   "source": [
    "## Reading dataset and Understanding the data"
   ]
  },
  {
   "cell_type": "code",
   "execution_count": 3,
   "metadata": {},
   "outputs": [],
   "source": [
    "# Reading dataset\n",
    "\n",
    "att=pd.read_excel('Student Applications & Performance.xlsx')"
   ]
  },
  {
   "cell_type": "code",
   "execution_count": 4,
   "metadata": {},
   "outputs": [
    {
     "name": "stdout",
     "output_type": "stream",
     "text": [
      "<class 'pandas.core.frame.DataFrame'>\n",
      "RangeIndex: 3400 entries, 0 to 3399\n",
      "Data columns (total 56 columns):\n",
      "STUDENT IDENTIFIER          3400 non-null int64\n",
      "STDNT_AGE                   3400 non-null int64\n",
      "STDNT_GENDER                3400 non-null object\n",
      "STDNT_BACKGROUND            3400 non-null object\n",
      "IN_STATE_FLAG               3400 non-null object\n",
      "INTERNATIONAL_STS           3400 non-null object\n",
      "STDNT_MAJOR                 3400 non-null object\n",
      "STDNT_MINOR                 3400 non-null object\n",
      "STDNT_TEST_ENTRANCE1        1106 non-null float64\n",
      "STDNT_TEST_ENTRANCE2        2492 non-null float64\n",
      "STDNT_TEST_ENTRANCE_COMB    2882 non-null float64\n",
      "FIRST_TERM                  3400 non-null int64\n",
      "CORE_COURSE_NAME_1_F        3400 non-null object\n",
      "CORE_COURSE_GRADE_1_F       3400 non-null object\n",
      "CORE_COURSE_NAME_2_F        3301 non-null object\n",
      "CORE_COURSE_GRADE_2_F       3301 non-null object\n",
      "CORE_COURSE_NAME_3_F        2835 non-null object\n",
      "CORE_COURSE_GRADE_3_F       2835 non-null object\n",
      "CORE_COURSE_NAME_4_F        1803 non-null object\n",
      "CORE_COURSE_GRADE_4_F       1803 non-null object\n",
      "CORE_COURSE_NAME_5_F        645 non-null object\n",
      "CORE_COURSE_GRADE_5_F       645 non-null object\n",
      "CORE_COURSE_NAME_6_F        128 non-null object\n",
      "CORE_COURSE_GRADE_6_F       128 non-null object\n",
      "SECOND_TERM                 3400 non-null int64\n",
      "CORE_COURSE_NAME_1_S        3243 non-null object\n",
      "CORE_COURSE_GRADE_1_S       3168 non-null object\n",
      "CORE_COURSE_NAME_2_S        2961 non-null object\n",
      "CORE_COURSE_GRADE_2_S       2961 non-null object\n",
      "CORE_COURSE_NAME_3_S        2362 non-null object\n",
      "CORE_COURSE_GRADE_3_S       2362 non-null object\n",
      "CORE_COURSE_NAME_4_S        1355 non-null object\n",
      "CORE_COURSE_GRADE_4_S       1355 non-null object\n",
      "CORE_COURSE_NAME_5_S        450 non-null object\n",
      "CORE_COURSE_GRADE_5_S       450 non-null object\n",
      "CORE_COURSE_NAME_6_S        81 non-null object\n",
      "CORE_COURSE_GRADE_6_S       81 non-null object\n",
      "HOUSING_STS                 3400 non-null object\n",
      "RETURNED_2ND_YR             3400 non-null int64\n",
      "DISTANCE_FROM_HOME          3375 non-null float64\n",
      "HIGH_SCHL_GPA               3347 non-null float64\n",
      "HIGH_SCHL_NAME              3399 non-null object\n",
      "FATHER_HI_EDU_CD            2968 non-null float64\n",
      "FATHER_HI_EDU_DESC          3400 non-null object\n",
      "MOTHER_HI_EDU_CD            2911 non-null float64\n",
      "MOTHER_HI_EDU_DESC          3400 non-null object\n",
      "DEGREE_GROUP_CD             3400 non-null object\n",
      "DEGREE_GROUP_DESC           3400 non-null object\n",
      "FIRST_TERM_ATTEMPT_HRS      3400 non-null int64\n",
      "FIRST_TERM_EARNED_HRS       3400 non-null int64\n",
      "SECOND_TERM_ATTEMPT_HRS     3194 non-null float64\n",
      "SECOND_TERM_EARNED_HRS      3191 non-null float64\n",
      "GROSS_FIN_NEED              3400 non-null int64\n",
      "COST_OF_ATTEND              3400 non-null int64\n",
      "EST_FAM_CONTRIBUTION        3400 non-null int64\n",
      "UNMET_NEED                  3400 non-null float64\n",
      "dtypes: float64(10), int64(10), object(36)\n",
      "memory usage: 1.5+ MB\n"
     ]
    }
   ],
   "source": [
    "att.info()"
   ]
  },
  {
   "cell_type": "code",
   "execution_count": 5,
   "metadata": {},
   "outputs": [
    {
     "data": {
      "text/html": [
       "<div>\n",
       "<style scoped>\n",
       "    .dataframe tbody tr th:only-of-type {\n",
       "        vertical-align: middle;\n",
       "    }\n",
       "\n",
       "    .dataframe tbody tr th {\n",
       "        vertical-align: top;\n",
       "    }\n",
       "\n",
       "    .dataframe thead th {\n",
       "        text-align: right;\n",
       "    }\n",
       "</style>\n",
       "<table border=\"1\" class=\"dataframe\">\n",
       "  <thead>\n",
       "    <tr style=\"text-align: right;\">\n",
       "      <th></th>\n",
       "      <th>STUDENT IDENTIFIER</th>\n",
       "      <th>STDNT_AGE</th>\n",
       "      <th>STDNT_GENDER</th>\n",
       "      <th>STDNT_BACKGROUND</th>\n",
       "      <th>IN_STATE_FLAG</th>\n",
       "      <th>INTERNATIONAL_STS</th>\n",
       "      <th>STDNT_MAJOR</th>\n",
       "      <th>STDNT_MINOR</th>\n",
       "      <th>STDNT_TEST_ENTRANCE1</th>\n",
       "      <th>STDNT_TEST_ENTRANCE2</th>\n",
       "      <th>...</th>\n",
       "      <th>DEGREE_GROUP_CD</th>\n",
       "      <th>DEGREE_GROUP_DESC</th>\n",
       "      <th>FIRST_TERM_ATTEMPT_HRS</th>\n",
       "      <th>FIRST_TERM_EARNED_HRS</th>\n",
       "      <th>SECOND_TERM_ATTEMPT_HRS</th>\n",
       "      <th>SECOND_TERM_EARNED_HRS</th>\n",
       "      <th>GROSS_FIN_NEED</th>\n",
       "      <th>COST_OF_ATTEND</th>\n",
       "      <th>EST_FAM_CONTRIBUTION</th>\n",
       "      <th>UNMET_NEED</th>\n",
       "    </tr>\n",
       "  </thead>\n",
       "  <tbody>\n",
       "    <tr>\n",
       "      <th>0</th>\n",
       "      <td>7808615</td>\n",
       "      <td>18</td>\n",
       "      <td>F</td>\n",
       "      <td>BGD 1</td>\n",
       "      <td>Y</td>\n",
       "      <td>N</td>\n",
       "      <td>Undeclared</td>\n",
       "      <td>N</td>\n",
       "      <td>NaN</td>\n",
       "      <td>1150.0</td>\n",
       "      <td>...</td>\n",
       "      <td>B</td>\n",
       "      <td>Bachelors</td>\n",
       "      <td>16</td>\n",
       "      <td>16</td>\n",
       "      <td>14.0</td>\n",
       "      <td>14.0</td>\n",
       "      <td>0</td>\n",
       "      <td>0</td>\n",
       "      <td>0</td>\n",
       "      <td>0.0</td>\n",
       "    </tr>\n",
       "    <tr>\n",
       "      <th>1</th>\n",
       "      <td>7830063</td>\n",
       "      <td>19</td>\n",
       "      <td>F</td>\n",
       "      <td>BGD 1</td>\n",
       "      <td>N</td>\n",
       "      <td>N</td>\n",
       "      <td>Undeclared</td>\n",
       "      <td>N</td>\n",
       "      <td>26.0</td>\n",
       "      <td>NaN</td>\n",
       "      <td>...</td>\n",
       "      <td>B</td>\n",
       "      <td>Bachelors</td>\n",
       "      <td>18</td>\n",
       "      <td>18</td>\n",
       "      <td>18.0</td>\n",
       "      <td>18.0</td>\n",
       "      <td>570000</td>\n",
       "      <td>1355760</td>\n",
       "      <td>785760</td>\n",
       "      <td>459300.0</td>\n",
       "    </tr>\n",
       "    <tr>\n",
       "      <th>2</th>\n",
       "      <td>7847538</td>\n",
       "      <td>18</td>\n",
       "      <td>M</td>\n",
       "      <td>BGD 1</td>\n",
       "      <td>Y</td>\n",
       "      <td>N</td>\n",
       "      <td>Mathematics</td>\n",
       "      <td>N</td>\n",
       "      <td>NaN</td>\n",
       "      <td>1020.0</td>\n",
       "      <td>...</td>\n",
       "      <td>B</td>\n",
       "      <td>Bachelors</td>\n",
       "      <td>15</td>\n",
       "      <td>15</td>\n",
       "      <td>14.0</td>\n",
       "      <td>14.0</td>\n",
       "      <td>0</td>\n",
       "      <td>0</td>\n",
       "      <td>0</td>\n",
       "      <td>0.0</td>\n",
       "    </tr>\n",
       "    <tr>\n",
       "      <th>3</th>\n",
       "      <td>8006429</td>\n",
       "      <td>18</td>\n",
       "      <td>M</td>\n",
       "      <td>BGD 1</td>\n",
       "      <td>Y</td>\n",
       "      <td>N</td>\n",
       "      <td>Undeclared</td>\n",
       "      <td>N</td>\n",
       "      <td>NaN</td>\n",
       "      <td>1210.0</td>\n",
       "      <td>...</td>\n",
       "      <td>B</td>\n",
       "      <td>Bachelors</td>\n",
       "      <td>13</td>\n",
       "      <td>13</td>\n",
       "      <td>14.0</td>\n",
       "      <td>14.0</td>\n",
       "      <td>0</td>\n",
       "      <td>0</td>\n",
       "      <td>0</td>\n",
       "      <td>0.0</td>\n",
       "    </tr>\n",
       "    <tr>\n",
       "      <th>4</th>\n",
       "      <td>7962680</td>\n",
       "      <td>18</td>\n",
       "      <td>F</td>\n",
       "      <td>BGD 1</td>\n",
       "      <td>Y</td>\n",
       "      <td>N</td>\n",
       "      <td>Art</td>\n",
       "      <td>N</td>\n",
       "      <td>NaN</td>\n",
       "      <td>1200.0</td>\n",
       "      <td>...</td>\n",
       "      <td>B</td>\n",
       "      <td>Bachelors</td>\n",
       "      <td>12</td>\n",
       "      <td>12</td>\n",
       "      <td>12.0</td>\n",
       "      <td>12.0</td>\n",
       "      <td>835920</td>\n",
       "      <td>1355760</td>\n",
       "      <td>519840</td>\n",
       "      <td>278340.0</td>\n",
       "    </tr>\n",
       "  </tbody>\n",
       "</table>\n",
       "<p>5 rows × 56 columns</p>\n",
       "</div>"
      ],
      "text/plain": [
       "   STUDENT IDENTIFIER  STDNT_AGE STDNT_GENDER STDNT_BACKGROUND IN_STATE_FLAG  \\\n",
       "0             7808615         18            F            BGD 1             Y   \n",
       "1             7830063         19            F            BGD 1             N   \n",
       "2             7847538         18            M            BGD 1             Y   \n",
       "3             8006429         18            M            BGD 1             Y   \n",
       "4             7962680         18            F            BGD 1             Y   \n",
       "\n",
       "  INTERNATIONAL_STS  STDNT_MAJOR STDNT_MINOR  STDNT_TEST_ENTRANCE1  \\\n",
       "0                 N   Undeclared           N                   NaN   \n",
       "1                 N   Undeclared           N                  26.0   \n",
       "2                 N  Mathematics           N                   NaN   \n",
       "3                 N   Undeclared           N                   NaN   \n",
       "4                 N          Art           N                   NaN   \n",
       "\n",
       "   STDNT_TEST_ENTRANCE2  ...  DEGREE_GROUP_CD  DEGREE_GROUP_DESC  \\\n",
       "0                1150.0  ...                B          Bachelors   \n",
       "1                   NaN  ...                B          Bachelors   \n",
       "2                1020.0  ...                B          Bachelors   \n",
       "3                1210.0  ...                B          Bachelors   \n",
       "4                1200.0  ...                B          Bachelors   \n",
       "\n",
       "  FIRST_TERM_ATTEMPT_HRS FIRST_TERM_EARNED_HRS SECOND_TERM_ATTEMPT_HRS  \\\n",
       "0                     16                    16                    14.0   \n",
       "1                     18                    18                    18.0   \n",
       "2                     15                    15                    14.0   \n",
       "3                     13                    13                    14.0   \n",
       "4                     12                    12                    12.0   \n",
       "\n",
       "  SECOND_TERM_EARNED_HRS GROSS_FIN_NEED COST_OF_ATTEND EST_FAM_CONTRIBUTION  \\\n",
       "0                   14.0              0              0                    0   \n",
       "1                   18.0         570000        1355760               785760   \n",
       "2                   14.0              0              0                    0   \n",
       "3                   14.0              0              0                    0   \n",
       "4                   12.0         835920        1355760               519840   \n",
       "\n",
       "  UNMET_NEED  \n",
       "0        0.0  \n",
       "1   459300.0  \n",
       "2        0.0  \n",
       "3        0.0  \n",
       "4   278340.0  \n",
       "\n",
       "[5 rows x 56 columns]"
      ]
     },
     "execution_count": 5,
     "metadata": {},
     "output_type": "execute_result"
    }
   ],
   "source": [
    "att.head()"
   ]
  },
  {
   "cell_type": "markdown",
   "metadata": {},
   "source": [
    "## Missing values treatment"
   ]
  },
  {
   "cell_type": "code",
   "execution_count": 6,
   "metadata": {},
   "outputs": [
    {
     "data": {
      "text/plain": [
       "STUDENT IDENTIFIER           0.00\n",
       "STDNT_AGE                    0.00\n",
       "STDNT_GENDER                 0.00\n",
       "STDNT_BACKGROUND             0.00\n",
       "IN_STATE_FLAG                0.00\n",
       "INTERNATIONAL_STS            0.00\n",
       "STDNT_MAJOR                  0.00\n",
       "STDNT_MINOR                  0.00\n",
       "STDNT_TEST_ENTRANCE1        67.47\n",
       "STDNT_TEST_ENTRANCE2        26.71\n",
       "STDNT_TEST_ENTRANCE_COMB    15.24\n",
       "FIRST_TERM                   0.00\n",
       "CORE_COURSE_NAME_1_F         0.00\n",
       "CORE_COURSE_GRADE_1_F        0.00\n",
       "CORE_COURSE_NAME_2_F         2.91\n",
       "CORE_COURSE_GRADE_2_F        2.91\n",
       "CORE_COURSE_NAME_3_F        16.62\n",
       "CORE_COURSE_GRADE_3_F       16.62\n",
       "CORE_COURSE_NAME_4_F        46.97\n",
       "CORE_COURSE_GRADE_4_F       46.97\n",
       "CORE_COURSE_NAME_5_F        81.03\n",
       "CORE_COURSE_GRADE_5_F       81.03\n",
       "CORE_COURSE_NAME_6_F        96.24\n",
       "CORE_COURSE_GRADE_6_F       96.24\n",
       "SECOND_TERM                  0.00\n",
       "CORE_COURSE_NAME_1_S         4.62\n",
       "CORE_COURSE_GRADE_1_S        6.82\n",
       "CORE_COURSE_NAME_2_S        12.91\n",
       "CORE_COURSE_GRADE_2_S       12.91\n",
       "CORE_COURSE_NAME_3_S        30.53\n",
       "CORE_COURSE_GRADE_3_S       30.53\n",
       "CORE_COURSE_NAME_4_S        60.15\n",
       "CORE_COURSE_GRADE_4_S       60.15\n",
       "CORE_COURSE_NAME_5_S        86.76\n",
       "CORE_COURSE_GRADE_5_S       86.76\n",
       "CORE_COURSE_NAME_6_S        97.62\n",
       "CORE_COURSE_GRADE_6_S       97.62\n",
       "HOUSING_STS                  0.00\n",
       "RETURNED_2ND_YR              0.00\n",
       "DISTANCE_FROM_HOME           0.74\n",
       "HIGH_SCHL_GPA                1.56\n",
       "HIGH_SCHL_NAME               0.03\n",
       "FATHER_HI_EDU_CD            12.71\n",
       "FATHER_HI_EDU_DESC           0.00\n",
       "MOTHER_HI_EDU_CD            14.38\n",
       "MOTHER_HI_EDU_DESC           0.00\n",
       "DEGREE_GROUP_CD              0.00\n",
       "DEGREE_GROUP_DESC            0.00\n",
       "FIRST_TERM_ATTEMPT_HRS       0.00\n",
       "FIRST_TERM_EARNED_HRS        0.00\n",
       "SECOND_TERM_ATTEMPT_HRS      6.06\n",
       "SECOND_TERM_EARNED_HRS       6.15\n",
       "GROSS_FIN_NEED               0.00\n",
       "COST_OF_ATTEND               0.00\n",
       "EST_FAM_CONTRIBUTION         0.00\n",
       "UNMET_NEED                   0.00\n",
       "dtype: float64"
      ]
     },
     "execution_count": 6,
     "metadata": {},
     "output_type": "execute_result"
    }
   ],
   "source": [
    "# Missing values percentage\n",
    "\n",
    "round((att.isnull().sum()/att.shape[0])*100,2)"
   ]
  },
  {
   "cell_type": "code",
   "execution_count": 7,
   "metadata": {},
   "outputs": [],
   "source": [
    "#Dropping Columns with more than 20% missing values\n",
    "\n",
    "names=att.columns.tolist()\n",
    "\n",
    "for i in range(len(names)):\n",
    "    if ((att[names[i]].isnull().sum()/att.shape[0])*100)>20:\n",
    "        att=att.drop(names[i],axis=1)"
   ]
  },
  {
   "cell_type": "code",
   "execution_count": 8,
   "metadata": {},
   "outputs": [
    {
     "name": "stdout",
     "output_type": "stream",
     "text": [
      "(3400, 40)\n"
     ]
    },
    {
     "data": {
      "text/html": [
       "<div>\n",
       "<style scoped>\n",
       "    .dataframe tbody tr th:only-of-type {\n",
       "        vertical-align: middle;\n",
       "    }\n",
       "\n",
       "    .dataframe tbody tr th {\n",
       "        vertical-align: top;\n",
       "    }\n",
       "\n",
       "    .dataframe thead th {\n",
       "        text-align: right;\n",
       "    }\n",
       "</style>\n",
       "<table border=\"1\" class=\"dataframe\">\n",
       "  <thead>\n",
       "    <tr style=\"text-align: right;\">\n",
       "      <th></th>\n",
       "      <th>STUDENT IDENTIFIER</th>\n",
       "      <th>STDNT_AGE</th>\n",
       "      <th>STDNT_GENDER</th>\n",
       "      <th>STDNT_BACKGROUND</th>\n",
       "      <th>IN_STATE_FLAG</th>\n",
       "      <th>INTERNATIONAL_STS</th>\n",
       "      <th>STDNT_MAJOR</th>\n",
       "      <th>STDNT_MINOR</th>\n",
       "      <th>STDNT_TEST_ENTRANCE_COMB</th>\n",
       "      <th>FIRST_TERM</th>\n",
       "      <th>...</th>\n",
       "      <th>DEGREE_GROUP_CD</th>\n",
       "      <th>DEGREE_GROUP_DESC</th>\n",
       "      <th>FIRST_TERM_ATTEMPT_HRS</th>\n",
       "      <th>FIRST_TERM_EARNED_HRS</th>\n",
       "      <th>SECOND_TERM_ATTEMPT_HRS</th>\n",
       "      <th>SECOND_TERM_EARNED_HRS</th>\n",
       "      <th>GROSS_FIN_NEED</th>\n",
       "      <th>COST_OF_ATTEND</th>\n",
       "      <th>EST_FAM_CONTRIBUTION</th>\n",
       "      <th>UNMET_NEED</th>\n",
       "    </tr>\n",
       "  </thead>\n",
       "  <tbody>\n",
       "    <tr>\n",
       "      <th>0</th>\n",
       "      <td>7808615</td>\n",
       "      <td>18</td>\n",
       "      <td>F</td>\n",
       "      <td>BGD 1</td>\n",
       "      <td>Y</td>\n",
       "      <td>N</td>\n",
       "      <td>Undeclared</td>\n",
       "      <td>N</td>\n",
       "      <td>1150.0</td>\n",
       "      <td>200708</td>\n",
       "      <td>...</td>\n",
       "      <td>B</td>\n",
       "      <td>Bachelors</td>\n",
       "      <td>16</td>\n",
       "      <td>16</td>\n",
       "      <td>14.0</td>\n",
       "      <td>14.0</td>\n",
       "      <td>0</td>\n",
       "      <td>0</td>\n",
       "      <td>0</td>\n",
       "      <td>0.0</td>\n",
       "    </tr>\n",
       "    <tr>\n",
       "      <th>1</th>\n",
       "      <td>7830063</td>\n",
       "      <td>19</td>\n",
       "      <td>F</td>\n",
       "      <td>BGD 1</td>\n",
       "      <td>N</td>\n",
       "      <td>N</td>\n",
       "      <td>Undeclared</td>\n",
       "      <td>N</td>\n",
       "      <td>1190.0</td>\n",
       "      <td>200808</td>\n",
       "      <td>...</td>\n",
       "      <td>B</td>\n",
       "      <td>Bachelors</td>\n",
       "      <td>18</td>\n",
       "      <td>18</td>\n",
       "      <td>18.0</td>\n",
       "      <td>18.0</td>\n",
       "      <td>570000</td>\n",
       "      <td>1355760</td>\n",
       "      <td>785760</td>\n",
       "      <td>459300.0</td>\n",
       "    </tr>\n",
       "    <tr>\n",
       "      <th>2</th>\n",
       "      <td>7847538</td>\n",
       "      <td>18</td>\n",
       "      <td>M</td>\n",
       "      <td>BGD 1</td>\n",
       "      <td>Y</td>\n",
       "      <td>N</td>\n",
       "      <td>Mathematics</td>\n",
       "      <td>N</td>\n",
       "      <td>1030.0</td>\n",
       "      <td>201008</td>\n",
       "      <td>...</td>\n",
       "      <td>B</td>\n",
       "      <td>Bachelors</td>\n",
       "      <td>15</td>\n",
       "      <td>15</td>\n",
       "      <td>14.0</td>\n",
       "      <td>14.0</td>\n",
       "      <td>0</td>\n",
       "      <td>0</td>\n",
       "      <td>0</td>\n",
       "      <td>0.0</td>\n",
       "    </tr>\n",
       "    <tr>\n",
       "      <th>3</th>\n",
       "      <td>8006429</td>\n",
       "      <td>18</td>\n",
       "      <td>M</td>\n",
       "      <td>BGD 1</td>\n",
       "      <td>Y</td>\n",
       "      <td>N</td>\n",
       "      <td>Undeclared</td>\n",
       "      <td>N</td>\n",
       "      <td>1220.0</td>\n",
       "      <td>200708</td>\n",
       "      <td>...</td>\n",
       "      <td>B</td>\n",
       "      <td>Bachelors</td>\n",
       "      <td>13</td>\n",
       "      <td>13</td>\n",
       "      <td>14.0</td>\n",
       "      <td>14.0</td>\n",
       "      <td>0</td>\n",
       "      <td>0</td>\n",
       "      <td>0</td>\n",
       "      <td>0.0</td>\n",
       "    </tr>\n",
       "    <tr>\n",
       "      <th>4</th>\n",
       "      <td>7962680</td>\n",
       "      <td>18</td>\n",
       "      <td>F</td>\n",
       "      <td>BGD 1</td>\n",
       "      <td>Y</td>\n",
       "      <td>N</td>\n",
       "      <td>Art</td>\n",
       "      <td>N</td>\n",
       "      <td>1190.0</td>\n",
       "      <td>200808</td>\n",
       "      <td>...</td>\n",
       "      <td>B</td>\n",
       "      <td>Bachelors</td>\n",
       "      <td>12</td>\n",
       "      <td>12</td>\n",
       "      <td>12.0</td>\n",
       "      <td>12.0</td>\n",
       "      <td>835920</td>\n",
       "      <td>1355760</td>\n",
       "      <td>519840</td>\n",
       "      <td>278340.0</td>\n",
       "    </tr>\n",
       "  </tbody>\n",
       "</table>\n",
       "<p>5 rows × 40 columns</p>\n",
       "</div>"
      ],
      "text/plain": [
       "   STUDENT IDENTIFIER  STDNT_AGE STDNT_GENDER STDNT_BACKGROUND IN_STATE_FLAG  \\\n",
       "0             7808615         18            F            BGD 1             Y   \n",
       "1             7830063         19            F            BGD 1             N   \n",
       "2             7847538         18            M            BGD 1             Y   \n",
       "3             8006429         18            M            BGD 1             Y   \n",
       "4             7962680         18            F            BGD 1             Y   \n",
       "\n",
       "  INTERNATIONAL_STS  STDNT_MAJOR STDNT_MINOR  STDNT_TEST_ENTRANCE_COMB  \\\n",
       "0                 N   Undeclared           N                    1150.0   \n",
       "1                 N   Undeclared           N                    1190.0   \n",
       "2                 N  Mathematics           N                    1030.0   \n",
       "3                 N   Undeclared           N                    1220.0   \n",
       "4                 N          Art           N                    1190.0   \n",
       "\n",
       "   FIRST_TERM  ... DEGREE_GROUP_CD DEGREE_GROUP_DESC FIRST_TERM_ATTEMPT_HRS  \\\n",
       "0      200708  ...               B         Bachelors                     16   \n",
       "1      200808  ...               B         Bachelors                     18   \n",
       "2      201008  ...               B         Bachelors                     15   \n",
       "3      200708  ...               B         Bachelors                     13   \n",
       "4      200808  ...               B         Bachelors                     12   \n",
       "\n",
       "  FIRST_TERM_EARNED_HRS SECOND_TERM_ATTEMPT_HRS SECOND_TERM_EARNED_HRS  \\\n",
       "0                    16                    14.0                   14.0   \n",
       "1                    18                    18.0                   18.0   \n",
       "2                    15                    14.0                   14.0   \n",
       "3                    13                    14.0                   14.0   \n",
       "4                    12                    12.0                   12.0   \n",
       "\n",
       "   GROSS_FIN_NEED COST_OF_ATTEND EST_FAM_CONTRIBUTION UNMET_NEED  \n",
       "0               0              0                    0        0.0  \n",
       "1          570000        1355760               785760   459300.0  \n",
       "2               0              0                    0        0.0  \n",
       "3               0              0                    0        0.0  \n",
       "4          835920        1355760               519840   278340.0  \n",
       "\n",
       "[5 rows x 40 columns]"
      ]
     },
     "execution_count": 8,
     "metadata": {},
     "output_type": "execute_result"
    }
   ],
   "source": [
    "print(att.shape)\n",
    "att.head()"
   ]
  },
  {
   "cell_type": "markdown",
   "metadata": {},
   "source": [
    "## Data Analysis"
   ]
  },
  {
   "cell_type": "markdown",
   "metadata": {},
   "source": [
    "### Demographic data"
   ]
  },
  {
   "cell_type": "code",
   "execution_count": 9,
   "metadata": {},
   "outputs": [
    {
     "data": {
      "text/plain": [
       "['STUDENT IDENTIFIER',\n",
       " 'STDNT_AGE',\n",
       " 'STDNT_GENDER',\n",
       " 'STDNT_BACKGROUND',\n",
       " 'IN_STATE_FLAG',\n",
       " 'INTERNATIONAL_STS',\n",
       " 'STDNT_MAJOR',\n",
       " 'STDNT_MINOR',\n",
       " 'STDNT_TEST_ENTRANCE_COMB',\n",
       " 'FIRST_TERM',\n",
       " 'CORE_COURSE_NAME_1_F',\n",
       " 'CORE_COURSE_GRADE_1_F',\n",
       " 'CORE_COURSE_NAME_2_F',\n",
       " 'CORE_COURSE_GRADE_2_F',\n",
       " 'CORE_COURSE_NAME_3_F',\n",
       " 'CORE_COURSE_GRADE_3_F',\n",
       " 'SECOND_TERM',\n",
       " 'CORE_COURSE_NAME_1_S',\n",
       " 'CORE_COURSE_GRADE_1_S',\n",
       " 'CORE_COURSE_NAME_2_S',\n",
       " 'CORE_COURSE_GRADE_2_S',\n",
       " 'HOUSING_STS',\n",
       " 'RETURNED_2ND_YR',\n",
       " 'DISTANCE_FROM_HOME',\n",
       " 'HIGH_SCHL_GPA',\n",
       " 'HIGH_SCHL_NAME',\n",
       " 'FATHER_HI_EDU_CD',\n",
       " 'FATHER_HI_EDU_DESC',\n",
       " 'MOTHER_HI_EDU_CD',\n",
       " 'MOTHER_HI_EDU_DESC',\n",
       " 'DEGREE_GROUP_CD',\n",
       " 'DEGREE_GROUP_DESC',\n",
       " 'FIRST_TERM_ATTEMPT_HRS',\n",
       " 'FIRST_TERM_EARNED_HRS',\n",
       " 'SECOND_TERM_ATTEMPT_HRS',\n",
       " 'SECOND_TERM_EARNED_HRS',\n",
       " 'GROSS_FIN_NEED',\n",
       " 'COST_OF_ATTEND',\n",
       " 'EST_FAM_CONTRIBUTION',\n",
       " 'UNMET_NEED']"
      ]
     },
     "execution_count": 9,
     "metadata": {},
     "output_type": "execute_result"
    }
   ],
   "source": [
    "att.columns.tolist()"
   ]
  },
  {
   "cell_type": "markdown",
   "metadata": {},
   "source": [
    "Reversing RETURNED_2ND_YR variable to get the reqd dependent variable"
   ]
  },
  {
   "cell_type": "code",
   "execution_count": 10,
   "metadata": {},
   "outputs": [],
   "source": [
    "att['STDNT_LEFT']=np.where(att['RETURNED_2ND_YR']==1,0,1)"
   ]
  },
  {
   "cell_type": "code",
   "execution_count": 11,
   "metadata": {},
   "outputs": [],
   "source": [
    "att=att.drop('RETURNED_2ND_YR',axis=1)"
   ]
  },
  {
   "cell_type": "code",
   "execution_count": 12,
   "metadata": {},
   "outputs": [
    {
     "data": {
      "image/png": "[encoded data removed]",
      "text/plain": [
       "<Figure size 432x288 with 1 Axes>"
      ]
     },
     "metadata": {
      "needs_background": "light"
     },
     "output_type": "display_data"
    }
   ],
   "source": [
    "sns.countplot(x='STDNT_LEFT',data=att)\n",
    "plt.savefig('Attrition counts.jpeg')"
   ]
  },
  {
   "cell_type": "code",
   "execution_count": 13,
   "metadata": {},
   "outputs": [
    {
     "name": "stdout",
     "output_type": "stream",
     "text": [
      "Number of students attrited is 723\n",
      "Number of students not attrited is 2677\n",
      "Percentage of attrition is 21.26%\n",
      "Percentage of no attrition is 78.74%\n"
     ]
    }
   ],
   "source": [
    "print('Number of students attrited is '+ str(att[att['STDNT_LEFT']==1].shape[0]))\n",
    "print('Number of students not attrited is '+ str(att[att['STDNT_LEFT']==0].shape[0]))\n",
    "\n",
    "print('Percentage of attrition is '+ str((round(((len(att[att['STDNT_LEFT']==1])/att.shape[0])*100),2))) + '%')\n",
    "print('Percentage of no attrition is '+ str((round(((len(att[att['STDNT_LEFT']==0])/att.shape[0])*100),2))) + '%')"
   ]
  },
  {
   "cell_type": "code",
   "execution_count": 14,
   "metadata": {},
   "outputs": [
    {
     "data": {
      "text/plain": [
       "array(['16to18', '19to21', '22to26'], dtype=object)"
      ]
     },
     "execution_count": 14,
     "metadata": {},
     "output_type": "execute_result"
    }
   ],
   "source": [
    "att['STDNT_AGE']=att['STDNT_AGE'].replace({16:'16to18',17:'16to18',18:'16to18'})\n",
    "att['STDNT_AGE']=att['STDNT_AGE'].replace({19:'19to21',20:'19to21',21:'19to21'})\n",
    "att['STDNT_AGE']=att['STDNT_AGE'].replace({22:'22to26',23:'22to26',24:'22to26',25:'22to26',26:'22to26'})\n",
    "att.STDNT_AGE.unique()"
   ]
  },
  {
   "cell_type": "code",
   "execution_count": 15,
   "metadata": {},
   "outputs": [
    {
     "data": {
      "text/html": [
       "<div>\n",
       "<style scoped>\n",
       "    .dataframe tbody tr th:only-of-type {\n",
       "        vertical-align: middle;\n",
       "    }\n",
       "\n",
       "    .dataframe tbody tr th {\n",
       "        vertical-align: top;\n",
       "    }\n",
       "\n",
       "    .dataframe thead th {\n",
       "        text-align: right;\n",
       "    }\n",
       "</style>\n",
       "<table border=\"1\" class=\"dataframe\">\n",
       "  <thead>\n",
       "    <tr style=\"text-align: right;\">\n",
       "      <th></th>\n",
       "      <th>STDNT_AGE</th>\n",
       "      <th>STDNT_LEFT</th>\n",
       "      <th>No of attrition</th>\n",
       "      <th>Total no. of students</th>\n",
       "      <th>Attrition Percentage</th>\n",
       "    </tr>\n",
       "  </thead>\n",
       "  <tbody>\n",
       "    <tr>\n",
       "      <th>2</th>\n",
       "      <td>22to26</td>\n",
       "      <td>1</td>\n",
       "      <td>2</td>\n",
       "      <td>12</td>\n",
       "      <td>17.0</td>\n",
       "    </tr>\n",
       "    <tr>\n",
       "      <th>0</th>\n",
       "      <td>16to18</td>\n",
       "      <td>1</td>\n",
       "      <td>660</td>\n",
       "      <td>3177</td>\n",
       "      <td>21.0</td>\n",
       "    </tr>\n",
       "    <tr>\n",
       "      <th>1</th>\n",
       "      <td>19to21</td>\n",
       "      <td>1</td>\n",
       "      <td>61</td>\n",
       "      <td>211</td>\n",
       "      <td>29.0</td>\n",
       "    </tr>\n",
       "  </tbody>\n",
       "</table>\n",
       "</div>"
      ],
      "text/plain": [
       "  STDNT_AGE  STDNT_LEFT  No of attrition  Total no. of students  \\\n",
       "2    22to26           1                2                     12   \n",
       "0    16to18           1              660                   3177   \n",
       "1    19to21           1               61                    211   \n",
       "\n",
       "   Attrition Percentage  \n",
       "2                  17.0  \n",
       "0                  21.0  \n",
       "1                  29.0  "
      ]
     },
     "execution_count": 15,
     "metadata": {},
     "output_type": "execute_result"
    }
   ],
   "source": [
    "AGE1=att.groupby(['STDNT_AGE','STDNT_LEFT'],as_index=False)['STUDENT IDENTIFIER'].agg('count')\n",
    "AGE2=att.groupby('STDNT_AGE',as_index=False)['STUDENT IDENTIFIER'].agg('count')\n",
    "AGE=pd.merge(AGE1,AGE2,how='outer',on='STDNT_AGE')\n",
    "AGE=AGE.query(\"STDNT_LEFT==1\")\n",
    "AGE['Attrition Percentage']=round((AGE['STUDENT IDENTIFIER_x']/AGE['STUDENT IDENTIFIER_y'])*100,0)\n",
    "AGE.rename(columns={\"STUDENT IDENTIFIER_x\":\"No of attrition\",\"STUDENT IDENTIFIER_y\":\"Total no. of students\"},inplace=True)\n",
    "ind=[]\n",
    "for i in range(len(AGE.index)): ind=ind+[i] \n",
    "AGE.index=ind\n",
    "AGE.sort_values('Attrition Percentage')"
   ]
  },
  {
   "cell_type": "code",
   "execution_count": 16,
   "metadata": {},
   "outputs": [
    {
     "data": {
      "image/png": "[encoded data removed]",
      "text/plain": [
       "<Figure size 1008x576 with 2 Axes>"
      ]
     },
     "metadata": {
      "needs_background": "light"
     },
     "output_type": "display_data"
    }
   ],
   "source": [
    "f, axs = plt.subplots(1,2,figsize=(14,8))\n",
    "\n",
    "plt.subplot(1, 2, 1) \n",
    "\n",
    "plt.bar(AGE['STDNT_AGE'],AGE['Total no. of students'],width=0.3,color='pink')\n",
    "plt.title('Student age Vs No.of Students')\n",
    "plt.xlabel('Student Age')\n",
    "plt.ylabel('No. of Stdnts')\n",
    "\n",
    "for x,y in zip(AGE['STDNT_AGE'],AGE['Total no. of students']):\n",
    "\n",
    "    label = \"{:.2f}\".format(y)\n",
    "\n",
    "    plt.annotate(label, \n",
    "                 (x,y), \n",
    "                 textcoords=\"offset points\",\n",
    "                 xytext=(0,10), \n",
    "                 ha='center') \n",
    "\n",
    "plt.subplot(1, 2, 2)\n",
    "\n",
    "plt.bar(AGE['STDNT_AGE'],AGE['Attrition Percentage'],width=0.3,color='cyan')\n",
    "plt.title('Student age Vs Attrition percentage')\n",
    "plt.xlabel('Student Age')\n",
    "plt.ylabel('Attrition Percentage')\n",
    "\n",
    "for x,y in zip(AGE['STDNT_AGE'],AGE['Attrition Percentage']):\n",
    "\n",
    "    label = \"{:.2f}\".format(y)\n",
    "\n",
    "    plt.annotate(label,\n",
    "                 (x,y),\n",
    "                 textcoords=\"offset points\",\n",
    "                 xytext=(0,10),\n",
    "                 ha='center')\n",
    "\n",
    "plt.show()\n",
    "f.savefig('Age Vs Attrition.jpeg')"
   ]
  },
  {
   "cell_type": "markdown",
   "metadata": {},
   "source": [
    "From the above charts, it is seen that most of the students' age are from 16 to 18 and attrition rate is high for students in the higher age range."
   ]
  },
  {
   "cell_type": "code",
   "execution_count": 17,
   "metadata": {},
   "outputs": [
    {
     "data": {
      "text/html": [
       "<div>\n",
       "<style scoped>\n",
       "    .dataframe tbody tr th:only-of-type {\n",
       "        vertical-align: middle;\n",
       "    }\n",
       "\n",
       "    .dataframe tbody tr th {\n",
       "        vertical-align: top;\n",
       "    }\n",
       "\n",
       "    .dataframe thead th {\n",
       "        text-align: right;\n",
       "    }\n",
       "</style>\n",
       "<table border=\"1\" class=\"dataframe\">\n",
       "  <thead>\n",
       "    <tr style=\"text-align: right;\">\n",
       "      <th></th>\n",
       "      <th>STDNT_GENDER</th>\n",
       "      <th>STDNT_LEFT</th>\n",
       "      <th>No of attrition</th>\n",
       "      <th>Total no. of students</th>\n",
       "      <th>Attrition Percentage</th>\n",
       "    </tr>\n",
       "  </thead>\n",
       "  <tbody>\n",
       "    <tr>\n",
       "      <th>1</th>\n",
       "      <td>M</td>\n",
       "      <td>1</td>\n",
       "      <td>248</td>\n",
       "      <td>1260</td>\n",
       "      <td>20.0</td>\n",
       "    </tr>\n",
       "    <tr>\n",
       "      <th>0</th>\n",
       "      <td>F</td>\n",
       "      <td>1</td>\n",
       "      <td>475</td>\n",
       "      <td>2140</td>\n",
       "      <td>22.0</td>\n",
       "    </tr>\n",
       "  </tbody>\n",
       "</table>\n",
       "</div>"
      ],
      "text/plain": [
       "  STDNT_GENDER  STDNT_LEFT  No of attrition  Total no. of students  \\\n",
       "1            M           1              248                   1260   \n",
       "0            F           1              475                   2140   \n",
       "\n",
       "   Attrition Percentage  \n",
       "1                  20.0  \n",
       "0                  22.0  "
      ]
     },
     "execution_count": 17,
     "metadata": {},
     "output_type": "execute_result"
    }
   ],
   "source": [
    "GENDER1=att.groupby(['STDNT_GENDER','STDNT_LEFT'],as_index=False)['STUDENT IDENTIFIER'].agg('count')\n",
    "GENDER2=att.groupby('STDNT_GENDER',as_index=False)['STUDENT IDENTIFIER'].agg('count')\n",
    "GENDER=pd.merge(GENDER1,GENDER2,how='outer',on='STDNT_GENDER')\n",
    "GENDER=GENDER.query(\"STDNT_LEFT==1\")\n",
    "GENDER['Attrition Percentage']=round((GENDER['STUDENT IDENTIFIER_x']/GENDER['STUDENT IDENTIFIER_y'])*100,0)\n",
    "GENDER.rename(columns={\"STUDENT IDENTIFIER_x\":\"No of attrition\",\"STUDENT IDENTIFIER_y\":\"Total no. of students\"},inplace=True)\n",
    "ind=[]\n",
    "for i in range(len(GENDER.index)): ind=ind+[i] \n",
    "GENDER.index=ind\n",
    "GENDER.sort_values('Attrition Percentage')"
   ]
  },
  {
   "cell_type": "code",
   "execution_count": 18,
   "metadata": {},
   "outputs": [
    {
     "data": {
      "image/png": "[encoded data removed]",
      "text/plain": [
       "<Figure size 1008x576 with 2 Axes>"
      ]
     },
     "metadata": {
      "needs_background": "light"
     },
     "output_type": "display_data"
    }
   ],
   "source": [
    "f, axs = plt.subplots(1,2,figsize=(14,8))\n",
    "\n",
    "plt.subplot(1, 2, 1) \n",
    "\n",
    "plt.bar(GENDER['STDNT_GENDER'],GENDER['Total no. of students'],width=0.3,color='pink')\n",
    "plt.title('Student gender Vs No.of Students')\n",
    "plt.xlabel('Student gender')\n",
    "plt.ylabel('No. of Stdnts')\n",
    "\n",
    "for x,y in zip(GENDER['STDNT_GENDER'],GENDER['Total no. of students']):\n",
    "\n",
    "    label = \"{:.2f}\".format(y)\n",
    "\n",
    "    plt.annotate(label,\n",
    "                 (x,y),\n",
    "                 textcoords=\"offset points\",\n",
    "                 xytext=(0,10),\n",
    "                 ha='center')\n",
    "\n",
    "plt.subplot(1, 2, 2)\n",
    "\n",
    "plt.bar(GENDER['STDNT_GENDER'],GENDER['Attrition Percentage'],width=0.3,color='cyan')\n",
    "plt.title('Student gender Vs Attrition percentage')\n",
    "plt.xlabel('Student gender')\n",
    "plt.ylabel('Attrition Percentage')\n",
    "\n",
    "for x,y in zip(GENDER['STDNT_GENDER'],GENDER['Attrition Percentage']):\n",
    "\n",
    "    label = \"{:.2f}\".format(y)\n",
    "\n",
    "    plt.annotate(label,\n",
    "                 (x,y),\n",
    "                 textcoords=\"offset points\",\n",
    "                 xytext=(0,10),\n",
    "                 ha='center')\n",
    "\n",
    "plt.tight_layout()\n",
    "plt.show()\n",
    "\n",
    "f.savefig('Gender Vs Attrition.jpeg')"
   ]
  },
  {
   "cell_type": "markdown",
   "metadata": {},
   "source": [
    "Female students are more in number and their attrition rate is also slightly more than the male students"
   ]
  },
  {
   "cell_type": "code",
   "execution_count": 19,
   "metadata": {},
   "outputs": [
    {
     "data": {
      "text/html": [
       "<div>\n",
       "<style scoped>\n",
       "    .dataframe tbody tr th:only-of-type {\n",
       "        vertical-align: middle;\n",
       "    }\n",
       "\n",
       "    .dataframe tbody tr th {\n",
       "        vertical-align: top;\n",
       "    }\n",
       "\n",
       "    .dataframe thead th {\n",
       "        text-align: right;\n",
       "    }\n",
       "</style>\n",
       "<table border=\"1\" class=\"dataframe\">\n",
       "  <thead>\n",
       "    <tr style=\"text-align: right;\">\n",
       "      <th></th>\n",
       "      <th>STDNT_LEFT</th>\n",
       "      <th>0</th>\n",
       "      <th>1</th>\n",
       "    </tr>\n",
       "    <tr>\n",
       "      <th>STDNT_AGE</th>\n",
       "      <th>STDNT_GENDER</th>\n",
       "      <th></th>\n",
       "      <th></th>\n",
       "    </tr>\n",
       "  </thead>\n",
       "  <tbody>\n",
       "    <tr>\n",
       "      <th rowspan=\"2\" valign=\"top\">16to18</th>\n",
       "      <th>F</th>\n",
       "      <td>1597</td>\n",
       "      <td>444</td>\n",
       "    </tr>\n",
       "    <tr>\n",
       "      <th>M</th>\n",
       "      <td>920</td>\n",
       "      <td>216</td>\n",
       "    </tr>\n",
       "    <tr>\n",
       "      <th rowspan=\"2\" valign=\"top\">19to21</th>\n",
       "      <th>F</th>\n",
       "      <td>66</td>\n",
       "      <td>30</td>\n",
       "    </tr>\n",
       "    <tr>\n",
       "      <th>M</th>\n",
       "      <td>84</td>\n",
       "      <td>31</td>\n",
       "    </tr>\n",
       "    <tr>\n",
       "      <th rowspan=\"2\" valign=\"top\">22to26</th>\n",
       "      <th>F</th>\n",
       "      <td>2</td>\n",
       "      <td>1</td>\n",
       "    </tr>\n",
       "    <tr>\n",
       "      <th>M</th>\n",
       "      <td>8</td>\n",
       "      <td>1</td>\n",
       "    </tr>\n",
       "  </tbody>\n",
       "</table>\n",
       "</div>"
      ],
      "text/plain": [
       "STDNT_LEFT                 0    1\n",
       "STDNT_AGE STDNT_GENDER           \n",
       "16to18    F             1597  444\n",
       "          M              920  216\n",
       "19to21    F               66   30\n",
       "          M               84   31\n",
       "22to26    F                2    1\n",
       "          M                8    1"
      ]
     },
     "execution_count": 19,
     "metadata": {},
     "output_type": "execute_result"
    }
   ],
   "source": [
    "tab1=pd.crosstab([att.STDNT_AGE,att.STDNT_GENDER],att.STDNT_LEFT)\n",
    "tab1=DataFrame(tab1)\n",
    "tab1"
   ]
  },
  {
   "cell_type": "code",
   "execution_count": 20,
   "metadata": {},
   "outputs": [
    {
     "data": {
      "text/plain": [
       "MultiIndex(levels=[['16to18', '19to21', '22to26'], ['F', 'M']],\n",
       "           codes=[[0, 0, 1, 1, 2, 2], [0, 1, 0, 1, 0, 1]],\n",
       "           names=['STDNT_AGE', 'STDNT_GENDER'])"
      ]
     },
     "execution_count": 20,
     "metadata": {},
     "output_type": "execute_result"
    }
   ],
   "source": [
    "tab1.index"
   ]
  },
  {
   "cell_type": "code",
   "execution_count": 21,
   "metadata": {},
   "outputs": [
    {
     "data": {
      "image/png": "[encoded data removed]",
      "text/plain": [
       "<Figure size 432x288 with 1 Axes>"
      ]
     },
     "metadata": {
      "needs_background": "light"
     },
     "output_type": "display_data"
    }
   ],
   "source": [
    "tab1.plot(kind='bar')\n",
    "plt.title('Student Age/Gender vs Attrition')\n",
    "plt.ylabel('No. of Stdnts')\n",
    "plt.tight_layout()\n",
    "plt.savefig('Student Age&Gender vs Attrition.jpeg')"
   ]
  },
  {
   "cell_type": "markdown",
   "metadata": {},
   "source": [
    "From the above chart, it is seen that female students in the age range of 16 to 18 are having more number of attrition."
   ]
  },
  {
   "cell_type": "code",
   "execution_count": 22,
   "metadata": {},
   "outputs": [
    {
     "data": {
      "text/html": [
       "<div>\n",
       "<style scoped>\n",
       "    .dataframe tbody tr th:only-of-type {\n",
       "        vertical-align: middle;\n",
       "    }\n",
       "\n",
       "    .dataframe tbody tr th {\n",
       "        vertical-align: top;\n",
       "    }\n",
       "\n",
       "    .dataframe thead th {\n",
       "        text-align: right;\n",
       "    }\n",
       "</style>\n",
       "<table border=\"1\" class=\"dataframe\">\n",
       "  <thead>\n",
       "    <tr style=\"text-align: right;\">\n",
       "      <th></th>\n",
       "      <th>STDNT_BACKGROUND</th>\n",
       "      <th>STDNT_LEFT</th>\n",
       "      <th>No of attrition</th>\n",
       "      <th>Total no. of students</th>\n",
       "      <th>Attrition Percentage</th>\n",
       "    </tr>\n",
       "  </thead>\n",
       "  <tbody>\n",
       "    <tr>\n",
       "      <th>5</th>\n",
       "      <td>BGD 6</td>\n",
       "      <td>1</td>\n",
       "      <td>14</td>\n",
       "      <td>94</td>\n",
       "      <td>15.0</td>\n",
       "    </tr>\n",
       "    <tr>\n",
       "      <th>2</th>\n",
       "      <td>BGD 3</td>\n",
       "      <td>1</td>\n",
       "      <td>170</td>\n",
       "      <td>947</td>\n",
       "      <td>18.0</td>\n",
       "    </tr>\n",
       "    <tr>\n",
       "      <th>3</th>\n",
       "      <td>BGD 4</td>\n",
       "      <td>1</td>\n",
       "      <td>26</td>\n",
       "      <td>139</td>\n",
       "      <td>19.0</td>\n",
       "    </tr>\n",
       "    <tr>\n",
       "      <th>7</th>\n",
       "      <td>BGD 8</td>\n",
       "      <td>1</td>\n",
       "      <td>1</td>\n",
       "      <td>5</td>\n",
       "      <td>20.0</td>\n",
       "    </tr>\n",
       "    <tr>\n",
       "      <th>0</th>\n",
       "      <td>BGD 1</td>\n",
       "      <td>1</td>\n",
       "      <td>477</td>\n",
       "      <td>2082</td>\n",
       "      <td>23.0</td>\n",
       "    </tr>\n",
       "    <tr>\n",
       "      <th>1</th>\n",
       "      <td>BGD 2</td>\n",
       "      <td>1</td>\n",
       "      <td>24</td>\n",
       "      <td>106</td>\n",
       "      <td>23.0</td>\n",
       "    </tr>\n",
       "    <tr>\n",
       "      <th>6</th>\n",
       "      <td>BGD 7</td>\n",
       "      <td>1</td>\n",
       "      <td>7</td>\n",
       "      <td>19</td>\n",
       "      <td>37.0</td>\n",
       "    </tr>\n",
       "    <tr>\n",
       "      <th>4</th>\n",
       "      <td>BGD 5</td>\n",
       "      <td>1</td>\n",
       "      <td>4</td>\n",
       "      <td>8</td>\n",
       "      <td>50.0</td>\n",
       "    </tr>\n",
       "  </tbody>\n",
       "</table>\n",
       "</div>"
      ],
      "text/plain": [
       "  STDNT_BACKGROUND  STDNT_LEFT  No of attrition  Total no. of students  \\\n",
       "5            BGD 6           1               14                     94   \n",
       "2            BGD 3           1              170                    947   \n",
       "3            BGD 4           1               26                    139   \n",
       "7            BGD 8           1                1                      5   \n",
       "0            BGD 1           1              477                   2082   \n",
       "1            BGD 2           1               24                    106   \n",
       "6            BGD 7           1                7                     19   \n",
       "4            BGD 5           1                4                      8   \n",
       "\n",
       "   Attrition Percentage  \n",
       "5                  15.0  \n",
       "2                  18.0  \n",
       "3                  19.0  \n",
       "7                  20.0  \n",
       "0                  23.0  \n",
       "1                  23.0  \n",
       "6                  37.0  \n",
       "4                  50.0  "
      ]
     },
     "execution_count": 22,
     "metadata": {},
     "output_type": "execute_result"
    }
   ],
   "source": [
    "BGD1=att.groupby(['STDNT_BACKGROUND','STDNT_LEFT'],as_index=False)['STUDENT IDENTIFIER'].agg('count')\n",
    "BGD2=att.groupby('STDNT_BACKGROUND',as_index=False)['STUDENT IDENTIFIER'].agg('count')\n",
    "BGD=pd.merge(BGD1,BGD2,how='outer',on='STDNT_BACKGROUND')\n",
    "BGD=BGD.query(\"STDNT_LEFT==1\")\n",
    "BGD['Attrition Percentage']=round((BGD['STUDENT IDENTIFIER_x']/BGD['STUDENT IDENTIFIER_y'])*100,0)\n",
    "BGD.rename(columns={\"STUDENT IDENTIFIER_x\":\"No of attrition\",\"STUDENT IDENTIFIER_y\":\"Total no. of students\"},inplace=True)\n",
    "ind=[]\n",
    "for i in range(0,8): ind=ind+[i] \n",
    "BGD.index=ind\n",
    "BGD.sort_values('Attrition Percentage')"
   ]
  },
  {
   "cell_type": "code",
   "execution_count": 23,
   "metadata": {},
   "outputs": [
    {
     "data": {
      "image/png": "[encoded data removed]",
      "text/plain": [
       "<Figure size 1008x576 with 2 Axes>"
      ]
     },
     "metadata": {
      "needs_background": "light"
     },
     "output_type": "display_data"
    }
   ],
   "source": [
    "f, axs = plt.subplots(1,2,figsize=(14,8))\n",
    "\n",
    "plt.subplot(1,2, 1) \n",
    "\n",
    "plt.bar(BGD['STDNT_BACKGROUND'],BGD['Total no. of students'],color='pink')\n",
    "plt.title('Student background Vs No.of Students')\n",
    "plt.xlabel('Student background')\n",
    "plt.ylabel('No. of Stdnts')\n",
    "\n",
    "for x,y in zip(BGD['STDNT_BACKGROUND'],BGD['Total no. of students']):\n",
    "\n",
    "    label = \"{:.2f}\".format(y)\n",
    "\n",
    "    plt.annotate(label,\n",
    "                 (x,y),\n",
    "                 textcoords=\"offset points\",\n",
    "                 xytext=(0,10),\n",
    "                 ha='center')\n",
    "\n",
    "\n",
    "plt.subplot(1,2, 2)\n",
    "\n",
    "plt.bar(BGD['STDNT_BACKGROUND'],BGD['Attrition Percentage'],color='cyan')\n",
    "plt.title('Student background Vs Attrition percentage')\n",
    "plt.xlabel('Student background')\n",
    "plt.ylabel('Attrition Percentage')\n",
    "\n",
    "for x,y in zip(BGD['STDNT_BACKGROUND'],BGD['Attrition Percentage']):\n",
    "    label = \"{:.2f}\".format(y)\n",
    "    plt.annotate(label,(x,y),textcoords=\"offset points\",xytext=(0,10),ha='center')\n",
    "\n",
    "\n",
    "\n",
    "plt.tight_layout()\n",
    "plt.show()\n",
    "f.savefig('Background Vs Attrition.jpeg')"
   ]
  },
  {
   "cell_type": "markdown",
   "metadata": {},
   "source": [
    "Most of the students are from Background 1 and 3. Students are very less in number for Backgrounds 5,7 and 8. The attrition rates are also high for BGD 5,7 & 8."
   ]
  },
  {
   "cell_type": "code",
   "execution_count": 24,
   "metadata": {},
   "outputs": [
    {
     "data": {
      "text/html": [
       "<div>\n",
       "<style scoped>\n",
       "    .dataframe tbody tr th:only-of-type {\n",
       "        vertical-align: middle;\n",
       "    }\n",
       "\n",
       "    .dataframe tbody tr th {\n",
       "        vertical-align: top;\n",
       "    }\n",
       "\n",
       "    .dataframe thead th {\n",
       "        text-align: right;\n",
       "    }\n",
       "</style>\n",
       "<table border=\"1\" class=\"dataframe\">\n",
       "  <thead>\n",
       "    <tr style=\"text-align: right;\">\n",
       "      <th></th>\n",
       "      <th>IN_STATE_FLAG</th>\n",
       "      <th>STDNT_LEFT</th>\n",
       "      <th>No of attrition</th>\n",
       "      <th>Total no. of students</th>\n",
       "      <th>Attrition Percentage</th>\n",
       "    </tr>\n",
       "  </thead>\n",
       "  <tbody>\n",
       "    <tr>\n",
       "      <th>1</th>\n",
       "      <td>Y</td>\n",
       "      <td>1</td>\n",
       "      <td>634</td>\n",
       "      <td>3063</td>\n",
       "      <td>21.0</td>\n",
       "    </tr>\n",
       "    <tr>\n",
       "      <th>0</th>\n",
       "      <td>N</td>\n",
       "      <td>1</td>\n",
       "      <td>89</td>\n",
       "      <td>337</td>\n",
       "      <td>26.0</td>\n",
       "    </tr>\n",
       "  </tbody>\n",
       "</table>\n",
       "</div>"
      ],
      "text/plain": [
       "  IN_STATE_FLAG  STDNT_LEFT  No of attrition  Total no. of students  \\\n",
       "1             Y           1              634                   3063   \n",
       "0             N           1               89                    337   \n",
       "\n",
       "   Attrition Percentage  \n",
       "1                  21.0  \n",
       "0                  26.0  "
      ]
     },
     "execution_count": 24,
     "metadata": {},
     "output_type": "execute_result"
    }
   ],
   "source": [
    "ISF1=att.groupby(['IN_STATE_FLAG','STDNT_LEFT'],as_index=False)['STUDENT IDENTIFIER'].agg('count')\n",
    "ISF2=att.groupby('IN_STATE_FLAG',as_index=False)['STUDENT IDENTIFIER'].agg('count')\n",
    "ISF=pd.merge(ISF1,ISF2,how='outer',on='IN_STATE_FLAG')\n",
    "ISF=ISF.query(\"STDNT_LEFT==1\")\n",
    "ISF['Attrition Percentage']=round((ISF['STUDENT IDENTIFIER_x']/ISF['STUDENT IDENTIFIER_y'])*100,0)\n",
    "ISF.rename(columns={\"STUDENT IDENTIFIER_x\":\"No of attrition\",\"STUDENT IDENTIFIER_y\":\"Total no. of students\"},inplace=True)\n",
    "ind=[]\n",
    "for i in range(len(ISF.index)): ind=ind+[i] \n",
    "ISF.index=ind\n",
    "ISF.sort_values('Attrition Percentage')"
   ]
  },
  {
   "cell_type": "code",
   "execution_count": 25,
   "metadata": {},
   "outputs": [
    {
     "data": {
      "image/png": "[encoded data removed]",
      "text/plain": [
       "<Figure size 1008x576 with 2 Axes>"
      ]
     },
     "metadata": {
      "needs_background": "light"
     },
     "output_type": "display_data"
    }
   ],
   "source": [
    "f, axs = plt.subplots(1,2,figsize=(14,8))\n",
    "\n",
    "plt.subplot(1,2, 1) \n",
    "\n",
    "plt.bar(ISF['IN_STATE_FLAG'],ISF['Total no. of students'],width=0.3,color='pink')\n",
    "plt.title('In state Flag Vs No.of Students')\n",
    "plt.xlabel('In state Flag')\n",
    "plt.ylabel('No. of Stdnts')\n",
    "\n",
    "for x,y in zip(ISF['IN_STATE_FLAG'],ISF['Total no. of students']):\n",
    "    label = \"{:.2f}\".format(y)\n",
    "    plt.annotate(label,(x,y),textcoords=\"offset points\",xytext=(0,10),ha='center')\n",
    "\n",
    "plt.subplot(1,2, 2)\n",
    "\n",
    "plt.bar(ISF['IN_STATE_FLAG'],ISF['Attrition Percentage'],width=0.3,color='cyan')\n",
    "plt.title('In state Flag Vs Attrition percentage')\n",
    "plt.xlabel('In state Flag')\n",
    "plt.ylabel('Attrition Percentage')\n",
    "\n",
    "for x,y in zip(ISF['IN_STATE_FLAG'],ISF['Attrition Percentage']):\n",
    "    label = \"{:.2f}\".format(y)\n",
    "    plt.annotate(label,(x,y),textcoords=\"offset points\",xytext=(0,10),ha='center')\n",
    "\n",
    "plt.tight_layout()\n",
    "plt.show()\n",
    "f.savefig('In state Flag Vs Attrition.jpeg')"
   ]
  },
  {
   "cell_type": "markdown",
   "metadata": {},
   "source": [
    "Students from other states are very less while their attrition rate is high"
   ]
  },
  {
   "cell_type": "code",
   "execution_count": 26,
   "metadata": {},
   "outputs": [
    {
     "data": {
      "text/html": [
       "<div>\n",
       "<style scoped>\n",
       "    .dataframe tbody tr th:only-of-type {\n",
       "        vertical-align: middle;\n",
       "    }\n",
       "\n",
       "    .dataframe tbody tr th {\n",
       "        vertical-align: top;\n",
       "    }\n",
       "\n",
       "    .dataframe thead th {\n",
       "        text-align: right;\n",
       "    }\n",
       "</style>\n",
       "<table border=\"1\" class=\"dataframe\">\n",
       "  <thead>\n",
       "    <tr style=\"text-align: right;\">\n",
       "      <th></th>\n",
       "      <th>INTERNATIONAL_STS</th>\n",
       "      <th>STDNT_LEFT</th>\n",
       "      <th>No of attrition</th>\n",
       "      <th>Total no. of students</th>\n",
       "      <th>Attrition Percentage</th>\n",
       "    </tr>\n",
       "  </thead>\n",
       "  <tbody>\n",
       "    <tr>\n",
       "      <th>0</th>\n",
       "      <td>N</td>\n",
       "      <td>1</td>\n",
       "      <td>711</td>\n",
       "      <td>3373</td>\n",
       "      <td>21.0</td>\n",
       "    </tr>\n",
       "    <tr>\n",
       "      <th>1</th>\n",
       "      <td>Y</td>\n",
       "      <td>1</td>\n",
       "      <td>12</td>\n",
       "      <td>27</td>\n",
       "      <td>44.0</td>\n",
       "    </tr>\n",
       "  </tbody>\n",
       "</table>\n",
       "</div>"
      ],
      "text/plain": [
       "  INTERNATIONAL_STS  STDNT_LEFT  No of attrition  Total no. of students  \\\n",
       "0                 N           1              711                   3373   \n",
       "1                 Y           1               12                     27   \n",
       "\n",
       "   Attrition Percentage  \n",
       "0                  21.0  \n",
       "1                  44.0  "
      ]
     },
     "execution_count": 26,
     "metadata": {},
     "output_type": "execute_result"
    }
   ],
   "source": [
    "INS1=att.groupby(['INTERNATIONAL_STS','STDNT_LEFT'],as_index=False)['STUDENT IDENTIFIER'].agg('count')\n",
    "INS2=att.groupby('INTERNATIONAL_STS',as_index=False)['STUDENT IDENTIFIER'].agg('count')\n",
    "INS=pd.merge(INS1,INS2,how='outer',on='INTERNATIONAL_STS')\n",
    "INS=INS.query(\"STDNT_LEFT==1\")\n",
    "INS['Attrition Percentage']=round((INS['STUDENT IDENTIFIER_x']/INS['STUDENT IDENTIFIER_y'])*100,0)\n",
    "INS.rename(columns={\"STUDENT IDENTIFIER_x\":\"No of attrition\",\"STUDENT IDENTIFIER_y\":\"Total no. of students\"},inplace=True)\n",
    "ind=[]\n",
    "for i in range(len(INS.index)): ind=ind+[i] \n",
    "INS.index=ind\n",
    "INS.sort_values('Attrition Percentage')"
   ]
  },
  {
   "cell_type": "code",
   "execution_count": 27,
   "metadata": {},
   "outputs": [
    {
     "data": {
      "image/png": "[encoded data removed]",
      "text/plain": [
       "<Figure size 1008x576 with 2 Axes>"
      ]
     },
     "metadata": {
      "needs_background": "light"
     },
     "output_type": "display_data"
    }
   ],
   "source": [
    "f, axs = plt.subplots(1,2,figsize=(14,8))\n",
    "\n",
    "plt.subplot(1,2, 1) \n",
    "\n",
    "plt.bar(INS['INTERNATIONAL_STS'],INS['Total no. of students'],width=0.3,color='pink')\n",
    "plt.title('International Status Vs No.of Students')\n",
    "plt.xlabel('International Status')\n",
    "plt.ylabel('No. of Stdnts')\n",
    "\n",
    "for x,y in zip(INS['INTERNATIONAL_STS'],INS['Total no. of students']):\n",
    "    label = \"{:.2f}\".format(y)\n",
    "    plt.annotate(label,(x,y),textcoords=\"offset points\",xytext=(0,10),ha='center')\n",
    "\n",
    "plt.subplot(1,2, 2)\n",
    "\n",
    "plt.bar(INS['INTERNATIONAL_STS'],INS['Attrition Percentage'],width=0.3,color='cyan')\n",
    "plt.title('International Status Vs Attrition percentage')\n",
    "plt.xlabel('International Status')\n",
    "plt.ylabel('Attrition Percentage')\n",
    "\n",
    "for x,y in zip(INS['INTERNATIONAL_STS'],INS['Attrition Percentage']):\n",
    "    label = \"{:.2f}\".format(y)\n",
    "    plt.annotate(label,(x,y),textcoords=\"offset points\",xytext=(0,10),ha='center')\n",
    "\n",
    "plt.tight_layout()\n",
    "plt.show()\n",
    "f.savefig('International Status Vs Attrition.jpeg')"
   ]
  },
  {
   "cell_type": "markdown",
   "metadata": {},
   "source": [
    "The number of international students is very low and their attrition rate is high."
   ]
  },
  {
   "cell_type": "code",
   "execution_count": 28,
   "metadata": {},
   "outputs": [
    {
     "data": {
      "text/html": [
       "<div>\n",
       "<style scoped>\n",
       "    .dataframe tbody tr th:only-of-type {\n",
       "        vertical-align: middle;\n",
       "    }\n",
       "\n",
       "    .dataframe tbody tr th {\n",
       "        vertical-align: top;\n",
       "    }\n",
       "\n",
       "    .dataframe thead th {\n",
       "        text-align: right;\n",
       "    }\n",
       "</style>\n",
       "<table border=\"1\" class=\"dataframe\">\n",
       "  <thead>\n",
       "    <tr style=\"text-align: right;\">\n",
       "      <th></th>\n",
       "      <th>HOUSING_STS</th>\n",
       "      <th>STDNT_LEFT</th>\n",
       "      <th>No of attrition</th>\n",
       "      <th>Total no. of students</th>\n",
       "      <th>Attrition Percentage</th>\n",
       "    </tr>\n",
       "  </thead>\n",
       "  <tbody>\n",
       "    <tr>\n",
       "      <th>0</th>\n",
       "      <td>Off Campus</td>\n",
       "      <td>1</td>\n",
       "      <td>389</td>\n",
       "      <td>1981</td>\n",
       "      <td>20.0</td>\n",
       "    </tr>\n",
       "    <tr>\n",
       "      <th>1</th>\n",
       "      <td>On Campus</td>\n",
       "      <td>1</td>\n",
       "      <td>334</td>\n",
       "      <td>1419</td>\n",
       "      <td>24.0</td>\n",
       "    </tr>\n",
       "  </tbody>\n",
       "</table>\n",
       "</div>"
      ],
      "text/plain": [
       "  HOUSING_STS  STDNT_LEFT  No of attrition  Total no. of students  \\\n",
       "0  Off Campus           1              389                   1981   \n",
       "1   On Campus           1              334                   1419   \n",
       "\n",
       "   Attrition Percentage  \n",
       "0                  20.0  \n",
       "1                  24.0  "
      ]
     },
     "execution_count": 28,
     "metadata": {},
     "output_type": "execute_result"
    }
   ],
   "source": [
    "HS1=att.groupby(['HOUSING_STS','STDNT_LEFT'],as_index=False)['STUDENT IDENTIFIER'].agg('count')\n",
    "HS2=att.groupby('HOUSING_STS',as_index=False)['STUDENT IDENTIFIER'].agg('count')\n",
    "HS=pd.merge(HS1,HS2,how='outer',on='HOUSING_STS')\n",
    "HS=HS.query(\"STDNT_LEFT==1\")\n",
    "HS['Attrition Percentage']=round((HS['STUDENT IDENTIFIER_x']/HS['STUDENT IDENTIFIER_y'])*100,0)\n",
    "HS.rename(columns={\"STUDENT IDENTIFIER_x\":\"No of attrition\",\"STUDENT IDENTIFIER_y\":\"Total no. of students\"},inplace=True)\n",
    "ind=[]\n",
    "for i in range(len(HS.index)): ind=ind+[i] \n",
    "HS.index=ind\n",
    "HS.sort_values('Attrition Percentage')"
   ]
  },
  {
   "cell_type": "code",
   "execution_count": 29,
   "metadata": {},
   "outputs": [
    {
     "data": {
      "image/png": "[encoded data removed]",
      "text/plain": [
       "<Figure size 1008x576 with 2 Axes>"
      ]
     },
     "metadata": {
      "needs_background": "light"
     },
     "output_type": "display_data"
    }
   ],
   "source": [
    "f, axs = plt.subplots(1,2,figsize=(14,8))\n",
    "\n",
    "plt.subplot(1,2, 1) \n",
    "\n",
    "plt.bar(HS['HOUSING_STS'],HS['Total no. of students'],width=0.3,color='pink')\n",
    "plt.title('Housing Status Vs No.of Students')\n",
    "plt.xlabel('Housing Status')\n",
    "plt.ylabel('No. of Stdnts')\n",
    "\n",
    "for x,y in zip(HS['HOUSING_STS'],HS['Total no. of students']):\n",
    "    label = \"{:.2f}\".format(y)\n",
    "    plt.annotate(label,(x,y),textcoords=\"offset points\",xytext=(0,10),ha='center')\n",
    "\n",
    "plt.subplot(1,2, 2)\n",
    "\n",
    "plt.bar(HS['HOUSING_STS'],HS['Attrition Percentage'],width=0.3,color='cyan')\n",
    "plt.title('Housing Status Vs Attrition percentage')\n",
    "plt.xlabel('Housing Status')\n",
    "plt.ylabel('Attrition Percentage')\n",
    "\n",
    "for x,y in zip(HS['HOUSING_STS'],HS['Attrition Percentage']):\n",
    "    label = \"{:.2f}\".format(y)\n",
    "    plt.annotate(label,(x,y),textcoords=\"offset points\",xytext=(0,10),ha='center')\n",
    "\n",
    "plt.tight_layout()\n",
    "plt.show()\n",
    "f.savefig('Housing Status Vs Attrition.jpeg')"
   ]
  },
  {
   "cell_type": "markdown",
   "metadata": {},
   "source": [
    "The number of students living inside the campus is lower. Their attrtion rates seem to be slightly more than the students living off campus."
   ]
  },
  {
   "cell_type": "code",
   "execution_count": 30,
   "metadata": {},
   "outputs": [
    {
     "data": {
      "text/html": [
       "<div>\n",
       "<style scoped>\n",
       "    .dataframe tbody tr th:only-of-type {\n",
       "        vertical-align: middle;\n",
       "    }\n",
       "\n",
       "    .dataframe tbody tr th {\n",
       "        vertical-align: top;\n",
       "    }\n",
       "\n",
       "    .dataframe thead th {\n",
       "        text-align: right;\n",
       "    }\n",
       "</style>\n",
       "<table border=\"1\" class=\"dataframe\">\n",
       "  <thead>\n",
       "    <tr style=\"text-align: right;\">\n",
       "      <th></th>\n",
       "      <th></th>\n",
       "      <th>STDNT_LEFT</th>\n",
       "      <th>0</th>\n",
       "      <th>1</th>\n",
       "    </tr>\n",
       "    <tr>\n",
       "      <th>INTERNATIONAL_STS</th>\n",
       "      <th>IN_STATE_FLAG</th>\n",
       "      <th>HOUSING_STS</th>\n",
       "      <th></th>\n",
       "      <th></th>\n",
       "    </tr>\n",
       "  </thead>\n",
       "  <tbody>\n",
       "    <tr>\n",
       "      <th rowspan=\"4\" valign=\"top\">N</th>\n",
       "      <th rowspan=\"2\" valign=\"top\">N</th>\n",
       "      <th>Off Campus</th>\n",
       "      <td>180</td>\n",
       "      <td>46</td>\n",
       "    </tr>\n",
       "    <tr>\n",
       "      <th>On Campus</th>\n",
       "      <td>53</td>\n",
       "      <td>31</td>\n",
       "    </tr>\n",
       "    <tr>\n",
       "      <th rowspan=\"2\" valign=\"top\">Y</th>\n",
       "      <th>Off Campus</th>\n",
       "      <td>1406</td>\n",
       "      <td>338</td>\n",
       "    </tr>\n",
       "    <tr>\n",
       "      <th>On Campus</th>\n",
       "      <td>1023</td>\n",
       "      <td>296</td>\n",
       "    </tr>\n",
       "    <tr>\n",
       "      <th rowspan=\"2\" valign=\"top\">Y</th>\n",
       "      <th rowspan=\"2\" valign=\"top\">N</th>\n",
       "      <th>Off Campus</th>\n",
       "      <td>6</td>\n",
       "      <td>5</td>\n",
       "    </tr>\n",
       "    <tr>\n",
       "      <th>On Campus</th>\n",
       "      <td>9</td>\n",
       "      <td>7</td>\n",
       "    </tr>\n",
       "  </tbody>\n",
       "</table>\n",
       "</div>"
      ],
      "text/plain": [
       "STDNT_LEFT                                      0    1\n",
       "INTERNATIONAL_STS IN_STATE_FLAG HOUSING_STS           \n",
       "N                 N             Off Campus    180   46\n",
       "                                On Campus      53   31\n",
       "                  Y             Off Campus   1406  338\n",
       "                                On Campus    1023  296\n",
       "Y                 N             Off Campus      6    5\n",
       "                                On Campus       9    7"
      ]
     },
     "execution_count": 30,
     "metadata": {},
     "output_type": "execute_result"
    }
   ],
   "source": [
    "tab2=pd.crosstab([att.INTERNATIONAL_STS,att.IN_STATE_FLAG,att.HOUSING_STS],att.STDNT_LEFT)\n",
    "tab2=DataFrame(tab2)\n",
    "tab2"
   ]
  },
  {
   "cell_type": "code",
   "execution_count": 31,
   "metadata": {},
   "outputs": [
    {
     "data": {
      "image/png": "[encoded data removed]",
      "text/plain": [
       "<Figure size 432x288 with 1 Axes>"
      ]
     },
     "metadata": {
      "needs_background": "light"
     },
     "output_type": "display_data"
    }
   ],
   "source": [
    "tab2.plot(kind='bar')\n",
    "plt.title('Student residence vs Attrition')\n",
    "plt.ylabel('No. of Stdnts')\n",
    "plt.tight_layout()\n",
    "plt.savefig('Student residence vs Attrition.jpeg')"
   ]
  },
  {
   "cell_type": "markdown",
   "metadata": {},
   "source": [
    "Form the above chart, we can see that students from the same country and state as the university and living off campus are showing more attrition."
   ]
  },
  {
   "cell_type": "code",
   "execution_count": 32,
   "metadata": {},
   "outputs": [
    {
     "data": {
      "text/plain": [
       "69.0      1402\n",
       "0.0        671\n",
       "150.0      497\n",
       "90.0       248\n",
       "138.0      227\n",
       "59.0        53\n",
       "188.0       24\n",
       "181.0       24\n",
       "190.0       22\n",
       "235.0       20\n",
       "91.0        18\n",
       "176.0       15\n",
       "137.0       14\n",
       "215.0       13\n",
       "136.0       12\n",
       "117.0       11\n",
       "222.0       10\n",
       "237.0        9\n",
       "666.0        6\n",
       "208.0        5\n",
       "275.0        4\n",
       "299.0        4\n",
       "246.0        4\n",
       "5932.0       3\n",
       "270.0        3\n",
       "283.0        2\n",
       "513.0        2\n",
       "711.0        2\n",
       "398.0        2\n",
       "997.0        2\n",
       "          ... \n",
       "1161.0       1\n",
       "919.0        1\n",
       "786.0        1\n",
       "366.0        1\n",
       "1216.0       1\n",
       "2221.0       1\n",
       "778.0        1\n",
       "1222.0       1\n",
       "1735.0       1\n",
       "330.0        1\n",
       "722.0        1\n",
       "2203.0       1\n",
       "421.0        1\n",
       "225.0        1\n",
       "477.0        1\n",
       "574.0        1\n",
       "528.0        1\n",
       "1001.0       1\n",
       "274.0        1\n",
       "517.0        1\n",
       "694.0        1\n",
       "609.0        1\n",
       "769.0        1\n",
       "1270.0       1\n",
       "441.0        1\n",
       "316.0        1\n",
       "151.0        1\n",
       "403.0        1\n",
       "572.0        1\n",
       "1078.0       1\n",
       "Name: DISTANCE_FROM_HOME, Length: 71, dtype: int64"
      ]
     },
     "execution_count": 32,
     "metadata": {},
     "output_type": "execute_result"
    }
   ],
   "source": [
    "att['DISTANCE_FROM_HOME'].value_counts()"
   ]
  },
  {
   "cell_type": "code",
   "execution_count": 33,
   "metadata": {},
   "outputs": [
    {
     "data": {
      "text/plain": [
       "150.0"
      ]
     },
     "execution_count": 33,
     "metadata": {},
     "output_type": "execute_result"
    }
   ],
   "source": [
    "att.DISTANCE_FROM_HOME.quantile(0.90)"
   ]
  },
  {
   "cell_type": "markdown",
   "metadata": {},
   "source": [
    "Most of the students live near to the university. Many of the disances are 0. This variable does not seem to give much useful information regarding attrtition. S, dropping this column."
   ]
  },
  {
   "cell_type": "code",
   "execution_count": 34,
   "metadata": {},
   "outputs": [],
   "source": [
    "att=att.drop('DISTANCE_FROM_HOME',axis=1)"
   ]
  },
  {
   "cell_type": "markdown",
   "metadata": {},
   "source": [
    "### Performance Data"
   ]
  },
  {
   "cell_type": "code",
   "execution_count": 35,
   "metadata": {},
   "outputs": [
    {
     "data": {
      "text/plain": [
       "Index(['STUDENT IDENTIFIER', 'STDNT_AGE', 'STDNT_GENDER', 'STDNT_BACKGROUND',\n",
       "       'IN_STATE_FLAG', 'INTERNATIONAL_STS', 'STDNT_MAJOR', 'STDNT_MINOR',\n",
       "       'STDNT_TEST_ENTRANCE_COMB', 'FIRST_TERM', 'CORE_COURSE_NAME_1_F',\n",
       "       'CORE_COURSE_GRADE_1_F', 'CORE_COURSE_NAME_2_F',\n",
       "       'CORE_COURSE_GRADE_2_F', 'CORE_COURSE_NAME_3_F',\n",
       "       'CORE_COURSE_GRADE_3_F', 'SECOND_TERM', 'CORE_COURSE_NAME_1_S',\n",
       "       'CORE_COURSE_GRADE_1_S', 'CORE_COURSE_NAME_2_S',\n",
       "       'CORE_COURSE_GRADE_2_S', 'HOUSING_STS', 'HIGH_SCHL_GPA',\n",
       "       'HIGH_SCHL_NAME', 'FATHER_HI_EDU_CD', 'FATHER_HI_EDU_DESC',\n",
       "       'MOTHER_HI_EDU_CD', 'MOTHER_HI_EDU_DESC', 'DEGREE_GROUP_CD',\n",
       "       'DEGREE_GROUP_DESC', 'FIRST_TERM_ATTEMPT_HRS', 'FIRST_TERM_EARNED_HRS',\n",
       "       'SECOND_TERM_ATTEMPT_HRS', 'SECOND_TERM_EARNED_HRS', 'GROSS_FIN_NEED',\n",
       "       'COST_OF_ATTEND', 'EST_FAM_CONTRIBUTION', 'UNMET_NEED', 'STDNT_LEFT'],\n",
       "      dtype='object')"
      ]
     },
     "execution_count": 35,
     "metadata": {},
     "output_type": "execute_result"
    }
   ],
   "source": [
    "att.columns"
   ]
  },
  {
   "cell_type": "code",
   "execution_count": 36,
   "metadata": {},
   "outputs": [
    {
     "data": {
      "text/plain": [
       "[Index(['Undeclared', 'Biology', 'Early Childhood Education', 'Pre-Nursing',\n",
       "        'Nursing', 'Psychology', 'Pre-Business', 'Theatre Arts',\n",
       "        'Music Performance', 'Criminal Justice', 'Music Education',\n",
       "        'General Business', 'Exercise Science', 'Art', 'Management',\n",
       "        'Communication', 'Chemistry', 'Political Science',\n",
       "        'English Language/Literature', 'Engineering Studies', 'Marketing',\n",
       "        'Computer Science - Systems', 'Accounting', 'Health Science',\n",
       "        'Computer Science - Games', 'Joint Enrollment - Accel', 'History',\n",
       "        'Applied Computer Science', 'Theatre Education',\n",
       "        'English and Secondary Ed', 'History and Secondary Ed',\n",
       "        'Pre-Engineering/RETP', 'Mathematics', 'Finance',\n",
       "        'Management Information Systems', 'Health and Physical Education',\n",
       "        'Sociology', 'Music', 'Middle Grades Education',\n",
       "        'Spec Ed: Gen. Curr. - Reading', 'General Studies/AS',\n",
       "        'Mathematics and Secondary Ed', 'Information Technology',\n",
       "        'Art Education', 'Biology and Secondary Ed', 'Spanish',\n",
       "        'Spanish with Teacher Cert', 'French', 'Geology',\n",
       "        'French with Teacher Cert', 'Early Admission - Accel',\n",
       "        'Earth and Space Science', 'Chemistry and Secondary Ed',\n",
       "        'Liberal Arts'],\n",
       "       dtype='object')]"
      ]
     },
     "execution_count": 36,
     "metadata": {},
     "output_type": "execute_result"
    }
   ],
   "source": [
    "[att['STDNT_MAJOR'].value_counts().sort_values(ascending=False).index]\n"
   ]
  },
  {
   "cell_type": "markdown",
   "metadata": {},
   "source": [
    "This variable has many levels. Hence keeping only the levels with most number of students and renamnig the other levels to 'others'."
   ]
  },
  {
   "cell_type": "code",
   "execution_count": 37,
   "metadata": {},
   "outputs": [],
   "source": [
    "list=['General Business', 'Exercise Science', 'Art', 'Management',\n",
    "        'Communication', 'Chemistry', 'Political Science',\n",
    "        'Engineering Studies', 'English Language/Literature', 'Marketing',\n",
    "        'Computer Science - Systems', 'Accounting', 'Health Science',\n",
    "        'Computer Science - Games', 'Joint Enrollment - Accel', 'History',\n",
    "        'Applied Computer Science', 'Theatre Education',\n",
    "        'English and Secondary Ed', 'History and Secondary Ed',\n",
    "        'Pre-Engineering/RETP', 'Mathematics', 'Finance',\n",
    "        'Management Information Systems', 'Sociology',\n",
    "        'Health and Physical Education', 'Middle Grades Education', 'Music',\n",
    "        'Spec Ed: Gen. Curr. - Reading', 'General Studies/AS',\n",
    "        'Mathematics and Secondary Ed', 'Information Technology',\n",
    "        'Art Education', 'Spanish', 'Biology and Secondary Ed',\n",
    "        'French with Teacher Cert', 'Geology', 'Spanish with Teacher Cert',\n",
    "        'French', 'Early Admission - Accel', 'Earth and Space Science',\n",
    "        'Chemistry and Secondary Ed', 'Liberal Arts','Undeclared']\n",
    "att['STDNT_MAJOR'].replace(list,'Others',inplace=True)"
   ]
  },
  {
   "cell_type": "code",
   "execution_count": 38,
   "metadata": {},
   "outputs": [
    {
     "data": {
      "text/plain": [
       "array(['Others', 'Biology', 'Criminal Justice', 'Psychology',\n",
       "       'Theatre Arts', 'Nursing', 'Pre-Nursing',\n",
       "       'Early Childhood Education', 'Music Performance', 'Pre-Business',\n",
       "       'Music Education'], dtype=object)"
      ]
     },
     "execution_count": 38,
     "metadata": {},
     "output_type": "execute_result"
    }
   ],
   "source": [
    "att['STDNT_MAJOR'].unique()"
   ]
  },
  {
   "cell_type": "code",
   "execution_count": 39,
   "metadata": {},
   "outputs": [
    {
     "data": {
      "text/html": [
       "<div>\n",
       "<style scoped>\n",
       "    .dataframe tbody tr th:only-of-type {\n",
       "        vertical-align: middle;\n",
       "    }\n",
       "\n",
       "    .dataframe tbody tr th {\n",
       "        vertical-align: top;\n",
       "    }\n",
       "\n",
       "    .dataframe thead th {\n",
       "        text-align: right;\n",
       "    }\n",
       "</style>\n",
       "<table border=\"1\" class=\"dataframe\">\n",
       "  <thead>\n",
       "    <tr style=\"text-align: right;\">\n",
       "      <th></th>\n",
       "      <th>STDNT_MAJOR</th>\n",
       "      <th>STDNT_LEFT</th>\n",
       "      <th>No of attrition</th>\n",
       "      <th>Total no. of students</th>\n",
       "      <th>Attrition Percentage</th>\n",
       "    </tr>\n",
       "  </thead>\n",
       "  <tbody>\n",
       "    <tr>\n",
       "      <th>3</th>\n",
       "      <td>Music Education</td>\n",
       "      <td>1</td>\n",
       "      <td>8</td>\n",
       "      <td>96</td>\n",
       "      <td>8.0</td>\n",
       "    </tr>\n",
       "    <tr>\n",
       "      <th>10</th>\n",
       "      <td>Theatre Arts</td>\n",
       "      <td>1</td>\n",
       "      <td>12</td>\n",
       "      <td>131</td>\n",
       "      <td>9.0</td>\n",
       "    </tr>\n",
       "    <tr>\n",
       "      <th>4</th>\n",
       "      <td>Music Performance</td>\n",
       "      <td>1</td>\n",
       "      <td>12</td>\n",
       "      <td>99</td>\n",
       "      <td>12.0</td>\n",
       "    </tr>\n",
       "    <tr>\n",
       "      <th>2</th>\n",
       "      <td>Early Childhood Education</td>\n",
       "      <td>1</td>\n",
       "      <td>37</td>\n",
       "      <td>190</td>\n",
       "      <td>19.0</td>\n",
       "    </tr>\n",
       "    <tr>\n",
       "      <th>6</th>\n",
       "      <td>Others</td>\n",
       "      <td>1</td>\n",
       "      <td>384</td>\n",
       "      <td>1795</td>\n",
       "      <td>21.0</td>\n",
       "    </tr>\n",
       "    <tr>\n",
       "      <th>0</th>\n",
       "      <td>Biology</td>\n",
       "      <td>1</td>\n",
       "      <td>82</td>\n",
       "      <td>362</td>\n",
       "      <td>23.0</td>\n",
       "    </tr>\n",
       "    <tr>\n",
       "      <th>5</th>\n",
       "      <td>Nursing</td>\n",
       "      <td>1</td>\n",
       "      <td>37</td>\n",
       "      <td>164</td>\n",
       "      <td>23.0</td>\n",
       "    </tr>\n",
       "    <tr>\n",
       "      <th>7</th>\n",
       "      <td>Pre-Business</td>\n",
       "      <td>1</td>\n",
       "      <td>32</td>\n",
       "      <td>133</td>\n",
       "      <td>24.0</td>\n",
       "    </tr>\n",
       "    <tr>\n",
       "      <th>8</th>\n",
       "      <td>Pre-Nursing</td>\n",
       "      <td>1</td>\n",
       "      <td>47</td>\n",
       "      <td>177</td>\n",
       "      <td>27.0</td>\n",
       "    </tr>\n",
       "    <tr>\n",
       "      <th>9</th>\n",
       "      <td>Psychology</td>\n",
       "      <td>1</td>\n",
       "      <td>43</td>\n",
       "      <td>155</td>\n",
       "      <td>28.0</td>\n",
       "    </tr>\n",
       "    <tr>\n",
       "      <th>1</th>\n",
       "      <td>Criminal Justice</td>\n",
       "      <td>1</td>\n",
       "      <td>29</td>\n",
       "      <td>98</td>\n",
       "      <td>30.0</td>\n",
       "    </tr>\n",
       "  </tbody>\n",
       "</table>\n",
       "</div>"
      ],
      "text/plain": [
       "                  STDNT_MAJOR  STDNT_LEFT  No of attrition  \\\n",
       "3             Music Education           1                8   \n",
       "10               Theatre Arts           1               12   \n",
       "4           Music Performance           1               12   \n",
       "2   Early Childhood Education           1               37   \n",
       "6                      Others           1              384   \n",
       "0                     Biology           1               82   \n",
       "5                     Nursing           1               37   \n",
       "7                Pre-Business           1               32   \n",
       "8                 Pre-Nursing           1               47   \n",
       "9                  Psychology           1               43   \n",
       "1            Criminal Justice           1               29   \n",
       "\n",
       "    Total no. of students  Attrition Percentage  \n",
       "3                      96                   8.0  \n",
       "10                    131                   9.0  \n",
       "4                      99                  12.0  \n",
       "2                     190                  19.0  \n",
       "6                    1795                  21.0  \n",
       "0                     362                  23.0  \n",
       "5                     164                  23.0  \n",
       "7                     133                  24.0  \n",
       "8                     177                  27.0  \n",
       "9                     155                  28.0  \n",
       "1                      98                  30.0  "
      ]
     },
     "execution_count": 39,
     "metadata": {},
     "output_type": "execute_result"
    }
   ],
   "source": [
    "MJR1=att.groupby(['STDNT_MAJOR','STDNT_LEFT'],as_index=False)['STUDENT IDENTIFIER'].agg('count')\n",
    "MJR2=att.groupby('STDNT_MAJOR',as_index=False)['STUDENT IDENTIFIER'].agg('count')\n",
    "MJR=pd.merge(MJR1,MJR2,how='outer',on='STDNT_MAJOR')\n",
    "MJR=MJR.query(\"STDNT_LEFT==1\")\n",
    "MJR['Attrition Percentage']=round((MJR['STUDENT IDENTIFIER_x']/MJR['STUDENT IDENTIFIER_y'])*100,0)\n",
    "MJR.rename(columns={\"STUDENT IDENTIFIER_x\":\"No of attrition\",\"STUDENT IDENTIFIER_y\":\"Total no. of students\"},inplace=True)\n",
    "ind=[]\n",
    "for i in range(len(MJR.index)): ind=ind+[i] \n",
    "MJR.index=ind\n",
    "MJR.sort_values('Attrition Percentage')"
   ]
  },
  {
   "cell_type": "code",
   "execution_count": 40,
   "metadata": {},
   "outputs": [
    {
     "data": {
      "image/png": "[encoded data removed]",
      "text/plain": [
       "<Figure size 1008x576 with 2 Axes>"
      ]
     },
     "metadata": {
      "needs_background": "light"
     },
     "output_type": "display_data"
    }
   ],
   "source": [
    "f, axs = plt.subplots(1,2,figsize=(14,8))\n",
    "\n",
    "plt.subplot(1,2, 1) \n",
    "\n",
    "plt.bar(MJR['STDNT_MAJOR'],MJR['Total no. of students'],color='pink')\n",
    "plt.title('Student Major Vs No.of Students')\n",
    "plt.xlabel('Student Major')\n",
    "plt.ylabel('No. of Stdnts')\n",
    "plt.xticks(rotation=90)\n",
    "\n",
    "for x,y in zip(MJR['STDNT_MAJOR'],MJR['Total no. of students']):\n",
    "    label = \"{:.2f}\".format(y)\n",
    "    plt.annotate(label,(x,y),textcoords=\"offset points\",xytext=(0,10),ha='center')\n",
    "\n",
    "plt.subplot(1,2, 2)\n",
    "\n",
    "plt.bar(MJR['STDNT_MAJOR'],MJR['Attrition Percentage'],color='cyan')\n",
    "plt.title('Student Major Vs Attrition percentage')\n",
    "plt.xlabel('Student Major')\n",
    "plt.ylabel('Attrition Percentage')\n",
    "plt.xticks(rotation=90)\n",
    "\n",
    "for x,y in zip(MJR['STDNT_MAJOR'],MJR['Attrition Percentage']):\n",
    "    label = \"{:.2f}\".format(y)\n",
    "    plt.annotate(label,(x,y),textcoords=\"offset points\",xytext=(0,10),ha='center')\n",
    "\n",
    "\n",
    "plt.tight_layout()\n",
    "plt.show()\n",
    "f.savefig('Student Major Vs Attrition.jpeg')"
   ]
  },
  {
   "cell_type": "markdown",
   "metadata": {},
   "source": [
    "Leaving 'others', the number of students with BIOLOGY as their major is more. The attrition rate is in the range of 20 to 30% for most of the courses(which seems very high), with 'CRIMINAL JUSTICE' having the highest attrition rate."
   ]
  },
  {
   "cell_type": "code",
   "execution_count": 41,
   "metadata": {},
   "outputs": [
    {
     "data": {
      "text/plain": [
       "N                                3160\n",
       "Spanish                            26\n",
       "Psychology                         19\n",
       "Music                              19\n",
       "Foundations of Business            15\n",
       "Communication                      14\n",
       "History                            13\n",
       "Theatre Arts                       12\n",
       "Criminal Justice                   12\n",
       "Computer Science - Systems         10\n",
       "Early Childhood Education           9\n",
       "Mathematics                         7\n",
       "Marketing                           6\n",
       "Professional Writing                6\n",
       "Art History                         6\n",
       "Sociology                           5\n",
       "Art                                 5\n",
       "English Language/Literature         5\n",
       "Chemistry                           4\n",
       "Political Science                   4\n",
       "Accounting                          4\n",
       "Biology                             4\n",
       "French                              4\n",
       "Exercise Science                    3\n",
       "Computer Info. Management           3\n",
       "Economics                           3\n",
       "International Business              3\n",
       "Health Science                      3\n",
       "Philosophy                          2\n",
       "Asian Studies                       2\n",
       "Management                          2\n",
       "Anthropology                        2\n",
       "Creative Writing                    2\n",
       "Military Sci & Adv Leadership       2\n",
       "African Studies                     2\n",
       "Women's Studies                     1\n",
       "Finance                             1\n",
       "Name: STDNT_MINOR, dtype: int64"
      ]
     },
     "execution_count": 41,
     "metadata": {},
     "output_type": "execute_result"
    }
   ],
   "source": [
    "att['STDNT_MINOR'].value_counts().sort_values(ascending=False)"
   ]
  },
  {
   "cell_type": "markdown",
   "metadata": {},
   "source": [
    "Almost 93% of the students have 'N' as their minor subject. Assuming this as No minor subject, we are dropping this column."
   ]
  },
  {
   "cell_type": "code",
   "execution_count": 42,
   "metadata": {},
   "outputs": [],
   "source": [
    "att=att.drop('STDNT_MINOR',axis=1)"
   ]
  },
  {
   "cell_type": "code",
   "execution_count": 43,
   "metadata": {},
   "outputs": [
    {
     "data": {
      "text/plain": [
       "518"
      ]
     },
     "execution_count": 43,
     "metadata": {},
     "output_type": "execute_result"
    }
   ],
   "source": [
    "att['STDNT_TEST_ENTRANCE_COMB'].isnull().sum()"
   ]
  },
  {
   "cell_type": "code",
   "execution_count": 44,
   "metadata": {},
   "outputs": [
    {
     "data": {
      "text/plain": [
       "count    2882.000000\n",
       "mean      997.758501\n",
       "std       156.268221\n",
       "min       530.000000\n",
       "25%       910.000000\n",
       "50%       990.000000\n",
       "75%      1110.000000\n",
       "max      1510.000000\n",
       "Name: STDNT_TEST_ENTRANCE_COMB, dtype: float64"
      ]
     },
     "execution_count": 44,
     "metadata": {},
     "output_type": "execute_result"
    }
   ],
   "source": [
    "att['STDNT_TEST_ENTRANCE_COMB'].describe()"
   ]
  },
  {
   "cell_type": "code",
   "execution_count": 45,
   "metadata": {},
   "outputs": [],
   "source": [
    "att['STDNT_TEST_ENTRANCE_COMB']=att['STDNT_TEST_ENTRANCE_COMB'].fillna(990.0)"
   ]
  },
  {
   "cell_type": "code",
   "execution_count": 46,
   "metadata": {},
   "outputs": [
    {
     "data": {
      "image/png": "[encoded data removed]",
      "text/plain": [
       "<Figure size 432x288 with 1 Axes>"
      ]
     },
     "metadata": {
      "needs_background": "light"
     },
     "output_type": "display_data"
    }
   ],
   "source": [
    "bp=plt.boxplot(att['STDNT_TEST_ENTRANCE_COMB'])"
   ]
  },
  {
   "cell_type": "code",
   "execution_count": 47,
   "metadata": {},
   "outputs": [
    {
     "data": {
      "text/plain": [
       "array([ 590.,  590.,  590.,  640.,  530.,  640.,  590.,  590.,  640.,\n",
       "        590.,  530.,  640.,  590.,  590.,  590.,  590.,  590.,  590.,\n",
       "        590.,  530.,  530.,  640.,  640.,  640.,  590.,  640.,  590.,\n",
       "        530.,  590.,  590.,  530.,  590.,  590.,  590.,  530.,  590.,\n",
       "        530.,  640.,  530.,  530.,  640.,  590.,  530.,  590.,  530.,\n",
       "        530.,  590.,  590.,  640.,  530.,  530.,  640.,  590.,  530.,\n",
       "        590.,  590.,  530.,  530.,  640.,  590.,  530.,  640.,  590.,\n",
       "        590.,  530.,  590.,  590.,  590.,  530.,  530.,  640.,  640.,\n",
       "        530.,  530.,  530.,  590.,  590.,  640.,  530.,  590.,  530.,\n",
       "        530.,  530.,  530.,  530.,  530.,  530.,  530.,  590.,  530.,\n",
       "        530.,  640.,  590.,  530.,  530.,  530.,  590.,  640.,  530.,\n",
       "        530.,  530.,  530.,  590.,  590.,  530.,  530.,  590.,  530.,\n",
       "        640.,  640.,  530.,  640.,  590.,  590.,  530.,  530.,  640.,\n",
       "        590.,  530.,  530.,  590.,  590., 1340., 1340., 1380., 1380.,\n",
       "       1340., 1380., 1340., 1380., 1340., 1420., 1380., 1340., 1380.,\n",
       "       1340., 1340., 1380., 1340., 1420., 1340., 1340., 1340., 1380.,\n",
       "       1420., 1340., 1380., 1340., 1380., 1420., 1510., 1380., 1380.,\n",
       "       1510., 1380., 1380., 1380., 1340., 1340., 1340., 1340., 1340.,\n",
       "       1460., 1380., 1340., 1380., 1420., 1340., 1340., 1420.])"
      ]
     },
     "execution_count": 47,
     "metadata": {},
     "output_type": "execute_result"
    }
   ],
   "source": [
    "a=bp['fliers'][0]\n",
    "out=a.get_data()[1]\n",
    "out"
   ]
  },
  {
   "cell_type": "code",
   "execution_count": 48,
   "metadata": {},
   "outputs": [],
   "source": [
    "att['STDNT_TEST_ENTRANCE_COMB'].replace(out,att['STDNT_TEST_ENTRANCE_COMB'].mean(),inplace=True)"
   ]
  },
  {
   "cell_type": "code",
   "execution_count": 49,
   "metadata": {},
   "outputs": [
    {
     "data": {
      "text/plain": [
       "count    3400.000000\n",
       "mean     1006.402353\n",
       "std       110.067681\n",
       "min       690.000000\n",
       "25%       950.000000\n",
       "50%       990.000000\n",
       "75%      1070.000000\n",
       "max      1300.000000\n",
       "Name: STDNT_TEST_ENTRANCE_COMB, dtype: float64"
      ]
     },
     "execution_count": 49,
     "metadata": {},
     "output_type": "execute_result"
    }
   ],
   "source": [
    "att['STDNT_TEST_ENTRANCE_COMB'].describe()"
   ]
  },
  {
   "cell_type": "code",
   "execution_count": 50,
   "metadata": {},
   "outputs": [
    {
     "data": {
      "text/plain": [
       "array([1150.        , 1190.        , 1030.        , 1220.        ,\n",
       "       1070.        ,  996.57647059,  740.        ,  990.        ,\n",
       "       1260.        , 1110.        ,  910.        , 1300.        ,\n",
       "        950.        ,  690.        ,  870.        ,  790.        ,\n",
       "        830.        ])"
      ]
     },
     "execution_count": 50,
     "metadata": {},
     "output_type": "execute_result"
    }
   ],
   "source": [
    "att['STDNT_TEST_ENTRANCE_COMB'].unique()"
   ]
  },
  {
   "cell_type": "code",
   "execution_count": 51,
   "metadata": {},
   "outputs": [
    {
     "data": {
      "text/html": [
       "<div>\n",
       "<style scoped>\n",
       "    .dataframe tbody tr th:only-of-type {\n",
       "        vertical-align: middle;\n",
       "    }\n",
       "\n",
       "    .dataframe tbody tr th {\n",
       "        vertical-align: top;\n",
       "    }\n",
       "\n",
       "    .dataframe thead th {\n",
       "        text-align: right;\n",
       "    }\n",
       "</style>\n",
       "<table border=\"1\" class=\"dataframe\">\n",
       "  <thead>\n",
       "    <tr style=\"text-align: right;\">\n",
       "      <th></th>\n",
       "      <th>STDNT_TEST_ENTRANCE_COMB</th>\n",
       "      <th>STDNT_LEFT</th>\n",
       "      <th>No of attrition</th>\n",
       "      <th>Total no. of students</th>\n",
       "      <th>Attrition Percentage</th>\n",
       "    </tr>\n",
       "  </thead>\n",
       "  <tbody>\n",
       "    <tr>\n",
       "      <th>1</th>\n",
       "      <td>740.000000</td>\n",
       "      <td>1</td>\n",
       "      <td>2</td>\n",
       "      <td>25</td>\n",
       "      <td>8.0</td>\n",
       "    </tr>\n",
       "    <tr>\n",
       "      <th>2</th>\n",
       "      <td>790.000000</td>\n",
       "      <td>1</td>\n",
       "      <td>5</td>\n",
       "      <td>48</td>\n",
       "      <td>10.0</td>\n",
       "    </tr>\n",
       "    <tr>\n",
       "      <th>15</th>\n",
       "      <td>1260.000000</td>\n",
       "      <td>1</td>\n",
       "      <td>10</td>\n",
       "      <td>68</td>\n",
       "      <td>15.0</td>\n",
       "    </tr>\n",
       "    <tr>\n",
       "      <th>8</th>\n",
       "      <td>996.576471</td>\n",
       "      <td>1</td>\n",
       "      <td>27</td>\n",
       "      <td>170</td>\n",
       "      <td>16.0</td>\n",
       "    </tr>\n",
       "    <tr>\n",
       "      <th>14</th>\n",
       "      <td>1220.000000</td>\n",
       "      <td>1</td>\n",
       "      <td>18</td>\n",
       "      <td>107</td>\n",
       "      <td>17.0</td>\n",
       "    </tr>\n",
       "    <tr>\n",
       "      <th>16</th>\n",
       "      <td>1300.000000</td>\n",
       "      <td>1</td>\n",
       "      <td>6</td>\n",
       "      <td>35</td>\n",
       "      <td>17.0</td>\n",
       "    </tr>\n",
       "    <tr>\n",
       "      <th>10</th>\n",
       "      <td>1070.000000</td>\n",
       "      <td>1</td>\n",
       "      <td>46</td>\n",
       "      <td>234</td>\n",
       "      <td>20.0</td>\n",
       "    </tr>\n",
       "    <tr>\n",
       "      <th>13</th>\n",
       "      <td>1190.000000</td>\n",
       "      <td>1</td>\n",
       "      <td>29</td>\n",
       "      <td>139</td>\n",
       "      <td>21.0</td>\n",
       "    </tr>\n",
       "    <tr>\n",
       "      <th>5</th>\n",
       "      <td>910.000000</td>\n",
       "      <td>1</td>\n",
       "      <td>65</td>\n",
       "      <td>309</td>\n",
       "      <td>21.0</td>\n",
       "    </tr>\n",
       "    <tr>\n",
       "      <th>7</th>\n",
       "      <td>990.000000</td>\n",
       "      <td>1</td>\n",
       "      <td>191</td>\n",
       "      <td>870</td>\n",
       "      <td>22.0</td>\n",
       "    </tr>\n",
       "    <tr>\n",
       "      <th>11</th>\n",
       "      <td>1110.000000</td>\n",
       "      <td>1</td>\n",
       "      <td>46</td>\n",
       "      <td>212</td>\n",
       "      <td>22.0</td>\n",
       "    </tr>\n",
       "    <tr>\n",
       "      <th>3</th>\n",
       "      <td>830.000000</td>\n",
       "      <td>1</td>\n",
       "      <td>28</td>\n",
       "      <td>128</td>\n",
       "      <td>22.0</td>\n",
       "    </tr>\n",
       "    <tr>\n",
       "      <th>6</th>\n",
       "      <td>950.000000</td>\n",
       "      <td>1</td>\n",
       "      <td>86</td>\n",
       "      <td>382</td>\n",
       "      <td>23.0</td>\n",
       "    </tr>\n",
       "    <tr>\n",
       "      <th>4</th>\n",
       "      <td>870.000000</td>\n",
       "      <td>1</td>\n",
       "      <td>55</td>\n",
       "      <td>238</td>\n",
       "      <td>23.0</td>\n",
       "    </tr>\n",
       "    <tr>\n",
       "      <th>9</th>\n",
       "      <td>1030.000000</td>\n",
       "      <td>1</td>\n",
       "      <td>66</td>\n",
       "      <td>268</td>\n",
       "      <td>25.0</td>\n",
       "    </tr>\n",
       "    <tr>\n",
       "      <th>12</th>\n",
       "      <td>1150.000000</td>\n",
       "      <td>1</td>\n",
       "      <td>40</td>\n",
       "      <td>159</td>\n",
       "      <td>25.0</td>\n",
       "    </tr>\n",
       "    <tr>\n",
       "      <th>0</th>\n",
       "      <td>690.000000</td>\n",
       "      <td>1</td>\n",
       "      <td>3</td>\n",
       "      <td>8</td>\n",
       "      <td>38.0</td>\n",
       "    </tr>\n",
       "  </tbody>\n",
       "</table>\n",
       "</div>"
      ],
      "text/plain": [
       "    STDNT_TEST_ENTRANCE_COMB  STDNT_LEFT  No of attrition  \\\n",
       "1                 740.000000           1                2   \n",
       "2                 790.000000           1                5   \n",
       "15               1260.000000           1               10   \n",
       "8                 996.576471           1               27   \n",
       "14               1220.000000           1               18   \n",
       "16               1300.000000           1                6   \n",
       "10               1070.000000           1               46   \n",
       "13               1190.000000           1               29   \n",
       "5                 910.000000           1               65   \n",
       "7                 990.000000           1              191   \n",
       "11               1110.000000           1               46   \n",
       "3                 830.000000           1               28   \n",
       "6                 950.000000           1               86   \n",
       "4                 870.000000           1               55   \n",
       "9                1030.000000           1               66   \n",
       "12               1150.000000           1               40   \n",
       "0                 690.000000           1                3   \n",
       "\n",
       "    Total no. of students  Attrition Percentage  \n",
       "1                      25                   8.0  \n",
       "2                      48                  10.0  \n",
       "15                     68                  15.0  \n",
       "8                     170                  16.0  \n",
       "14                    107                  17.0  \n",
       "16                     35                  17.0  \n",
       "10                    234                  20.0  \n",
       "13                    139                  21.0  \n",
       "5                     309                  21.0  \n",
       "7                     870                  22.0  \n",
       "11                    212                  22.0  \n",
       "3                     128                  22.0  \n",
       "6                     382                  23.0  \n",
       "4                     238                  23.0  \n",
       "9                     268                  25.0  \n",
       "12                    159                  25.0  \n",
       "0                       8                  38.0  "
      ]
     },
     "execution_count": 51,
     "metadata": {},
     "output_type": "execute_result"
    }
   ],
   "source": [
    "ETC1=att.groupby(['STDNT_TEST_ENTRANCE_COMB','STDNT_LEFT'],as_index=False)['STUDENT IDENTIFIER'].agg('count')\n",
    "ETC2=att.groupby('STDNT_TEST_ENTRANCE_COMB',as_index=False)['STUDENT IDENTIFIER'].agg('count')\n",
    "ETC=pd.merge(ETC1,ETC2,how='outer',on='STDNT_TEST_ENTRANCE_COMB')\n",
    "ETC=ETC.query(\"STDNT_LEFT==1\")\n",
    "ETC['Attrition Percentage']=round((ETC['STUDENT IDENTIFIER_x']/ETC['STUDENT IDENTIFIER_y'])*100,0)\n",
    "ETC.rename(columns={\"STUDENT IDENTIFIER_x\":\"No of attrition\",\"STUDENT IDENTIFIER_y\":\"Total no. of students\"},inplace=True)\n",
    "ind=[]\n",
    "for i in range(len(ETC.index)): ind=ind+[i] \n",
    "ETC.index=ind\n",
    "ETC.sort_values('Attrition Percentage')"
   ]
  },
  {
   "cell_type": "code",
   "execution_count": 52,
   "metadata": {},
   "outputs": [
    {
     "data": {
      "image/png": "[encoded data removed]",
      "text/plain": [
       "<Figure size 1008x576 with 2 Axes>"
      ]
     },
     "metadata": {
      "needs_background": "light"
     },
     "output_type": "display_data"
    }
   ],
   "source": [
    "f, axs = plt.subplots(1,2,figsize=(14,8))\n",
    "\n",
    "plt.subplot(1,2, 1) \n",
    "\n",
    "plt.bar(ETC['STDNT_TEST_ENTRANCE_COMB'],ETC['Total no. of students'],width=2,color='blue')\n",
    "plt.title('Entrance Score Vs No.of Students')\n",
    "plt.xlabel('Entrance Score')\n",
    "plt.ylabel('No. of Stdnts')\n",
    "plt.xticks(range(650,1310,20),rotation=90)\n",
    "\n",
    "for x,y in zip(ETC['STDNT_TEST_ENTRANCE_COMB'],ETC['Total no. of students']):\n",
    "    label = \"{:.2f}\".format(y)\n",
    "    plt.annotate(label,(x,y),textcoords=\"offset points\",xytext=(0,10),ha='center')\n",
    "\n",
    "plt.subplot(1,2, 2)\n",
    "\n",
    "plt.bar(ETC['STDNT_TEST_ENTRANCE_COMB'],ETC['Attrition Percentage'],width=2,color='cyan')\n",
    "plt.title('Entrance Score Vs Attrition percentage')\n",
    "plt.xlabel('Entrance Score')\n",
    "plt.ylabel('Attrition Percentage')\n",
    "plt.xticks(range(650,1310,20),rotation=90)\n",
    "\n",
    "for x,y in zip(ETC['STDNT_TEST_ENTRANCE_COMB'],ETC['Attrition Percentage']):\n",
    "    label = \"{:.2f}\".format(y)\n",
    "    plt.annotate(label,(x,y),textcoords=\"offset points\",xytext=(0,10),ha='center')\n",
    "\n",
    "plt.tight_layout()\n",
    "plt.show()\n",
    "f.savefig('Entrance Score Vs Attrition.jpeg')"
   ]
  },
  {
   "cell_type": "code",
   "execution_count": 53,
   "metadata": {},
   "outputs": [
    {
     "data": {
      "image/png": "[encoded data removed]",
      "text/plain": [
       "<Figure size 432x288 with 1 Axes>"
      ]
     },
     "metadata": {
      "needs_background": "light"
     },
     "output_type": "display_data"
    }
   ],
   "source": [
    "plt.hist(att.STDNT_TEST_ENTRANCE_COMB)\n",
    "plt.title('Distribution of Entrance score')\n",
    "plt.xlabel('Entrance Score')\n",
    "plt.ylabel('No. of Stdnts')\n",
    "plt.savefig('Entrance Score - Histogram.jpeg')"
   ]
  },
  {
   "cell_type": "markdown",
   "metadata": {},
   "source": [
    "From the above charts, we can see that most of the student are in the medium range of entrance test marks. The attrition rate ranges from 15% to 25% for most of the scores."
   ]
  },
  {
   "cell_type": "markdown",
   "metadata": {},
   "source": [
    "Dropping the variables ('FIRST_TERM','CORE_COURSE_NAME_1_F','CORE_COURSE_GRADE_1_F', 'CORE_COURSE_NAME_2_F','CORE_COURSE_GRADE_2_F', 'CORE_COURSE_NAME_3_F','CORE_COURSE_GRADE_3_F', 'SECOND_TERM', 'CORE_COURSE_NAME_1_S','CORE_COURSE_GRADE_1_S', 'CORE_COURSE_NAME_2_S','CORE_COURSE_GRADE_2_S'). These variables have many levels and the grades of the students can be got from the variables FIRST_TERM_EARNED_HOURS and SECOND_TERM_EARNED_HOURS. "
   ]
  },
  {
   "cell_type": "code",
   "execution_count": 54,
   "metadata": {},
   "outputs": [],
   "source": [
    "att=att.drop(['FIRST_TERM', 'CORE_COURSE_NAME_1_F',\n",
    "       'CORE_COURSE_GRADE_1_F', 'CORE_COURSE_NAME_2_F',\n",
    "       'CORE_COURSE_GRADE_2_F', 'CORE_COURSE_NAME_3_F',\n",
    "       'CORE_COURSE_GRADE_3_F', 'SECOND_TERM', 'CORE_COURSE_NAME_1_S',\n",
    "       'CORE_COURSE_GRADE_1_S', 'CORE_COURSE_NAME_2_S',\n",
    "       'CORE_COURSE_GRADE_2_S'],axis=1)"
   ]
  },
  {
   "cell_type": "code",
   "execution_count": 55,
   "metadata": {},
   "outputs": [
    {
     "data": {
      "text/plain": [
       "count    3347.000000\n",
       "mean        3.202738\n",
       "std         0.455337\n",
       "min         0.000000\n",
       "25%         2.870000\n",
       "50%         3.200000\n",
       "75%         3.560000\n",
       "max         4.000000\n",
       "Name: HIGH_SCHL_GPA, dtype: float64"
      ]
     },
     "execution_count": 55,
     "metadata": {},
     "output_type": "execute_result"
    }
   ],
   "source": [
    "att.HIGH_SCHL_GPA.describe()"
   ]
  },
  {
   "cell_type": "code",
   "execution_count": 56,
   "metadata": {},
   "outputs": [],
   "source": [
    "# Imputing missing values with mean\n",
    "att.HIGH_SCHL_GPA=att.HIGH_SCHL_GPA.fillna(3.2)"
   ]
  },
  {
   "cell_type": "code",
   "execution_count": 57,
   "metadata": {},
   "outputs": [
    {
     "data": {
      "image/png": "[encoded data removed]",
      "text/plain": [
       "<Figure size 432x288 with 1 Axes>"
      ]
     },
     "metadata": {
      "needs_background": "light"
     },
     "output_type": "display_data"
    }
   ],
   "source": [
    "plt.hist(att.HIGH_SCHL_GPA,color='lightblue')\n",
    "plt.title('Distribution of High School GPA')\n",
    "plt.xlabel('GPA')\n",
    "plt.ylabel('No. of Stdnts')\n",
    "plt.savefig('High School GPA - Histogram.jpeg')"
   ]
  },
  {
   "cell_type": "markdown",
   "metadata": {},
   "source": [
    "Most of the students have 3 to 4 as their high school GPA."
   ]
  },
  {
   "cell_type": "markdown",
   "metadata": {},
   "source": [
    "Dropping variables ('HIGH_SCHL_NAME', 'FATHER_HI_EDU_CD','MOTHER_HI_EDU_CD','DEGREE_GROUP_CD'). \n",
    "'HIGH_SCHL_NAME' - does not provide useful information regarding attrition.\n",
    "'FATHER_HI_EDU_CD','MOTHER_HI_EDU_CD','DEGREE_GROUP_CD' - these are only codes for the variables which give their description respectively."
   ]
  },
  {
   "cell_type": "code",
   "execution_count": 58,
   "metadata": {},
   "outputs": [],
   "source": [
    "att=att.drop(['HIGH_SCHL_NAME', 'FATHER_HI_EDU_CD','MOTHER_HI_EDU_CD','DEGREE_GROUP_CD'],axis=1)"
   ]
  },
  {
   "cell_type": "markdown",
   "metadata": {},
   "source": [
    "#### Creating Derived variables 'FIRST_TERM_PERFORMANCE' and 'SECOND_TERM_PERFORMANCE'"
   ]
  },
  {
   "cell_type": "markdown",
   "metadata": {},
   "source": [
    "FIRST_TERM_PERFORMANCE"
   ]
  },
  {
   "cell_type": "code",
   "execution_count": 59,
   "metadata": {},
   "outputs": [
    {
     "name": "stdout",
     "output_type": "stream",
     "text": [
      "[9, 11, 12, 13, 14, 15, 16, 17, 18, 19, 20, 21]\n",
      "[0, 1, 2, 3, 4, 5, 6, 7, 8, 9, 10, 11, 12, 13, 14, 15, 16, 17, 18, 19, 20, 21]\n",
      "[0.0, 0.06666666666666667, 0.07142857142857142, 0.07692307692307693, 0.08333333333333333, 0.13333333333333333, 0.14285714285714285, 0.16666666666666666, 0.17647058823529413, 0.1875, 0.2, 0.21428571428571427, 0.23076923076923078, 0.25, 0.26666666666666666, 0.2857142857142857, 0.3076923076923077, 0.3333333333333333, 0.35294117647058826, 0.35714285714285715, 0.375, 0.38461538461538464, 0.3888888888888889, 0.4, 0.4117647058823529, 0.4166666666666667, 0.42857142857142855, 0.4375, 0.4444444444444444, 0.46153846153846156, 0.4666666666666667, 0.5, 0.5294117647058824, 0.5333333333333333, 0.5384615384615384, 0.5625, 0.5714285714285714, 0.5833333333333334, 0.5882352941176471, 0.6, 0.6111111111111112, 0.6153846153846154, 0.625, 0.6428571428571429, 0.6666666666666666, 0.6875, 0.6923076923076923, 0.7058823529411765, 0.7142857142857143, 0.7222222222222222, 0.7333333333333333, 0.7368421052631579, 0.75, 0.7647058823529411, 0.7692307692307693, 0.7777777777777778, 0.7857142857142857, 0.7894736842105263, 0.8, 0.8125, 0.8235294117647058, 0.8333333333333334, 0.8421052631578947, 0.8461538461538461, 0.8571428571428571, 0.8666666666666667, 0.875, 0.9166666666666666, 0.9230769230769231, 0.9285714285714286, 0.9333333333333333, 0.9375, 0.9411764705882353, 0.9444444444444444, 0.95, 1.0, 1.2307692307692308, 1.2727272727272727, 1.3333333333333333]\n"
     ]
    }
   ],
   "source": [
    "print(sorted(att.FIRST_TERM_ATTEMPT_HRS.unique()))\n",
    "print(sorted(att.FIRST_TERM_EARNED_HRS.unique()))\n",
    "\n",
    "att['FIRST_TERM_PERFORMANCE']=att.FIRST_TERM_EARNED_HRS/att.FIRST_TERM_ATTEMPT_HRS\n",
    "\n",
    "print(sorted(att.FIRST_TERM_PERFORMANCE.unique()))"
   ]
  },
  {
   "cell_type": "markdown",
   "metadata": {},
   "source": [
    "Deleting rows with FIRST_TERM_PERFORMANCE above 1 as it is not possible to earn hours more than that attempted for."
   ]
  },
  {
   "cell_type": "code",
   "execution_count": 60,
   "metadata": {},
   "outputs": [
    {
     "name": "stdout",
     "output_type": "stream",
     "text": [
      "Int64Index([906, 2262], dtype='int64')\n",
      "Int64Index([3342], dtype='int64')\n",
      "Int64Index([998], dtype='int64')\n"
     ]
    }
   ],
   "source": [
    "print(att.query(\"FIRST_TERM_PERFORMANCE==1.2307692307692308\").index)\n",
    "print(att.query(\"FIRST_TERM_PERFORMANCE==1.2727272727272727\").index)\n",
    "print(att.query(\"FIRST_TERM_PERFORMANCE==1.3333333333333333\").index)"
   ]
  },
  {
   "cell_type": "code",
   "execution_count": 61,
   "metadata": {},
   "outputs": [],
   "source": [
    "att=att.drop([998,3342,906,2262],axis=0)"
   ]
  },
  {
   "cell_type": "markdown",
   "metadata": {},
   "source": [
    "SECOND_TERM_PERFORMANCE"
   ]
  },
  {
   "cell_type": "code",
   "execution_count": 62,
   "metadata": {},
   "outputs": [
    {
     "name": "stdout",
     "output_type": "stream",
     "text": [
      "[2.0, 3.0, 4.0, 6.0, 7.0, 8.0, 9.0, 10.0, 11.0, 12.0, 13.0, 14.0, 15.0, 16.0, 17.0, 18.0, 19.0, 20.0, 21.0, 22.0, 23.0, nan]\n",
      "[0.0, 1.0, 2.0, 3.0, 4.0, 5.0, 6.0, 7.0, 8.0, 9.0, 10.0, 11.0, 12.0, 13.0, 14.0, 15.0, 16.0, 17.0, 18.0, 19.0, 20.0, 21.0, 23.0, nan]\n",
      "[0.23076923076923078, 0.35714285714285715, 0.46153846153846156, 0.47368421052631576, 0.5, 0.5294117647058824, 0.5333333333333333, 0.5384615384615384, 0.5555555555555556, 0.5625, 0.5882352941176471, 0.6, 0.631578947368421, 0.6470588235294118, 0.6666666666666666, 0.6875, 0.6923076923076923, 0.7, 0.7058823529411765, 0.7142857142857143, 0.7222222222222222, 0.7333333333333333, 0.75, 0.7647058823529411, 0.7692307692307693, 0.7777777777777778, 0.7857142857142857, 0.7894736842105263, 0.8, 0.8125, 0.8181818181818182, 0.8235294117647058, 0.8333333333333334, 0.8571428571428571, 0.8666666666666667, 0.8823529411764706, 0.8947368421052632, 0.9230769230769231, 0.9285714285714286, 0.9333333333333333, 0.9375, 0.9411764705882353, 0.9444444444444444, 0.9473684210526315, 1.0, 1.0555555555555556, nan, 0.0, 0.08333333333333333, 0.1, 0.13333333333333333, 0.15384615384615385, 0.15789473684210525, 0.16666666666666666, 0.17647058823529413, 0.1875, 0.2, 0.21428571428571427, 0.25, 0.26666666666666666, 0.2857142857142857, 0.29411764705882354, 0.3, 0.3076923076923077, 0.3157894736842105, 0.3333333333333333, 0.36363636363636365, 0.375, 0.38461538461538464, 0.4, 0.4117647058823529, 0.4166666666666667, 0.42857142857142855, 0.4375, 0.4444444444444444, 0.45454545454545453, 0.4666666666666667, 0.47058823529411764, 0.5263157894736842, 0.5714285714285714, 0.5833333333333334, 0.6111111111111112, 0.625, 0.6363636363636364, 0.6428571428571429, 0.65, 0.6842105263157895, 0.7272727272727273, 0.8421052631578947, 0.8461538461538461, 0.875, 0.9, 0.9166666666666666]\n"
     ]
    }
   ],
   "source": [
    "print(sorted(att.SECOND_TERM_ATTEMPT_HRS.unique()))\n",
    "print(sorted(att.SECOND_TERM_EARNED_HRS.unique()))\n",
    "\n",
    "att['SECOND_TERM_PERFORMANCE']=att.SECOND_TERM_EARNED_HRS/att.SECOND_TERM_ATTEMPT_HRS\n",
    "\n",
    "print(sorted(att.SECOND_TERM_PERFORMANCE.unique()))"
   ]
  },
  {
   "cell_type": "code",
   "execution_count": 63,
   "metadata": {},
   "outputs": [
    {
     "name": "stdout",
     "output_type": "stream",
     "text": [
      "208\n"
     ]
    }
   ],
   "source": [
    "# Imputing missing values with mean\n",
    "print(att.SECOND_TERM_PERFORMANCE.isnull().sum())\n",
    "att.SECOND_TERM_PERFORMANCE=att.SECOND_TERM_PERFORMANCE.fillna(att.SECOND_TERM_PERFORMANCE.mean())"
   ]
  },
  {
   "cell_type": "code",
   "execution_count": 64,
   "metadata": {},
   "outputs": [],
   "source": [
    "att=att.drop(['FIRST_TERM_ATTEMPT_HRS', 'FIRST_TERM_EARNED_HRS',\n",
    "       'SECOND_TERM_ATTEMPT_HRS', 'SECOND_TERM_EARNED_HRS'],axis=1)"
   ]
  },
  {
   "cell_type": "markdown",
   "metadata": {},
   "source": [
    "### Financial data"
   ]
  },
  {
   "cell_type": "code",
   "execution_count": 65,
   "metadata": {},
   "outputs": [
    {
     "data": {
      "text/plain": [
       "Index(['STUDENT IDENTIFIER', 'STDNT_AGE', 'STDNT_GENDER', 'STDNT_BACKGROUND',\n",
       "       'IN_STATE_FLAG', 'INTERNATIONAL_STS', 'STDNT_MAJOR',\n",
       "       'STDNT_TEST_ENTRANCE_COMB', 'HOUSING_STS', 'HIGH_SCHL_GPA',\n",
       "       'FATHER_HI_EDU_DESC', 'MOTHER_HI_EDU_DESC', 'DEGREE_GROUP_DESC',\n",
       "       'GROSS_FIN_NEED', 'COST_OF_ATTEND', 'EST_FAM_CONTRIBUTION',\n",
       "       'UNMET_NEED', 'STDNT_LEFT', 'FIRST_TERM_PERFORMANCE',\n",
       "       'SECOND_TERM_PERFORMANCE'],\n",
       "      dtype='object')"
      ]
     },
     "execution_count": 65,
     "metadata": {},
     "output_type": "execute_result"
    }
   ],
   "source": [
    "att.columns"
   ]
  },
  {
   "cell_type": "code",
   "execution_count": 66,
   "metadata": {},
   "outputs": [
    {
     "data": {
      "text/html": [
       "<div>\n",
       "<style scoped>\n",
       "    .dataframe tbody tr th:only-of-type {\n",
       "        vertical-align: middle;\n",
       "    }\n",
       "\n",
       "    .dataframe tbody tr th {\n",
       "        vertical-align: top;\n",
       "    }\n",
       "\n",
       "    .dataframe thead th {\n",
       "        text-align: right;\n",
       "    }\n",
       "</style>\n",
       "<table border=\"1\" class=\"dataframe\">\n",
       "  <thead>\n",
       "    <tr style=\"text-align: right;\">\n",
       "      <th></th>\n",
       "      <th>FATHER_HI_EDU_DESC</th>\n",
       "      <th>STDNT_LEFT</th>\n",
       "      <th>No of attrition</th>\n",
       "      <th>Total no. of students</th>\n",
       "      <th>Attrition Percentage</th>\n",
       "    </tr>\n",
       "  </thead>\n",
       "  <tbody>\n",
       "    <tr>\n",
       "      <th>0</th>\n",
       "      <td>College/Beyond</td>\n",
       "      <td>1</td>\n",
       "      <td>256</td>\n",
       "      <td>1307</td>\n",
       "      <td>20.0</td>\n",
       "    </tr>\n",
       "    <tr>\n",
       "      <th>4</th>\n",
       "      <td>Other/Unknown</td>\n",
       "      <td>1</td>\n",
       "      <td>48</td>\n",
       "      <td>226</td>\n",
       "      <td>21.0</td>\n",
       "    </tr>\n",
       "    <tr>\n",
       "      <th>1</th>\n",
       "      <td>High School</td>\n",
       "      <td>1</td>\n",
       "      <td>288</td>\n",
       "      <td>1334</td>\n",
       "      <td>22.0</td>\n",
       "    </tr>\n",
       "    <tr>\n",
       "      <th>3</th>\n",
       "      <td>No Information</td>\n",
       "      <td>1</td>\n",
       "      <td>103</td>\n",
       "      <td>432</td>\n",
       "      <td>24.0</td>\n",
       "    </tr>\n",
       "    <tr>\n",
       "      <th>2</th>\n",
       "      <td>Middle School/Junior High</td>\n",
       "      <td>1</td>\n",
       "      <td>26</td>\n",
       "      <td>97</td>\n",
       "      <td>27.0</td>\n",
       "    </tr>\n",
       "  </tbody>\n",
       "</table>\n",
       "</div>"
      ],
      "text/plain": [
       "          FATHER_HI_EDU_DESC  STDNT_LEFT  No of attrition  \\\n",
       "0             College/Beyond           1              256   \n",
       "4              Other/Unknown           1               48   \n",
       "1                High School           1              288   \n",
       "3             No Information           1              103   \n",
       "2  Middle School/Junior High           1               26   \n",
       "\n",
       "   Total no. of students  Attrition Percentage  \n",
       "0                   1307                  20.0  \n",
       "4                    226                  21.0  \n",
       "1                   1334                  22.0  \n",
       "3                    432                  24.0  \n",
       "2                     97                  27.0  "
      ]
     },
     "execution_count": 66,
     "metadata": {},
     "output_type": "execute_result"
    }
   ],
   "source": [
    "FED1=att.groupby(['FATHER_HI_EDU_DESC','STDNT_LEFT'],as_index=False)['STUDENT IDENTIFIER'].agg('count')\n",
    "FED2=att.groupby('FATHER_HI_EDU_DESC',as_index=False)['STUDENT IDENTIFIER'].agg('count')\n",
    "FED=pd.merge(FED1,FED2,how='outer',on='FATHER_HI_EDU_DESC')\n",
    "FED=FED.query(\"STDNT_LEFT==1\")\n",
    "FED['Attrition Percentage']=round((FED['STUDENT IDENTIFIER_x']/FED['STUDENT IDENTIFIER_y'])*100,0)\n",
    "FED.rename(columns={\"STUDENT IDENTIFIER_x\":\"No of attrition\",\"STUDENT IDENTIFIER_y\":\"Total no. of students\"},inplace=True)\n",
    "ind=[]\n",
    "for i in range(len(FED.index)): ind=ind+[i] \n",
    "FED.index=ind\n",
    "FED.sort_values('Attrition Percentage')"
   ]
  },
  {
   "cell_type": "code",
   "execution_count": 67,
   "metadata": {},
   "outputs": [
    {
     "data": {
      "image/png": "[encoded data removed]",
      "text/plain": [
       "<Figure size 1008x576 with 2 Axes>"
      ]
     },
     "metadata": {
      "needs_background": "light"
     },
     "output_type": "display_data"
    }
   ],
   "source": [
    "f, axs = plt.subplots(1,2,figsize=(14,8))\n",
    "\n",
    "plt.subplot(1,2, 1) \n",
    "\n",
    "plt.bar(FED['FATHER_HI_EDU_DESC'],FED['Total no. of students'],width=0.5,color='pink')\n",
    "plt.title('Fathers education Vs No.of Students')\n",
    "plt.xlabel('Fathers education')\n",
    "plt.ylabel('No. of Stdnts')\n",
    "plt.xticks(rotation=90)\n",
    "\n",
    "for x,y in zip(FED['FATHER_HI_EDU_DESC'],FED['Total no. of students']):\n",
    "    label = \"{:.2f}\".format(y)\n",
    "    plt.annotate(label,(x,y),textcoords=\"offset points\",xytext=(0,10),ha='center')\n",
    "\n",
    "plt.subplot(1,2, 2)\n",
    "\n",
    "plt.bar(FED['FATHER_HI_EDU_DESC'],FED['Attrition Percentage'],width=0.5,color='cyan')\n",
    "plt.title('Fathers education Vs Attrition percentage')\n",
    "plt.xlabel('Fathers education')\n",
    "plt.ylabel('Attrition Percentage')\n",
    "plt.xticks(rotation=90)\n",
    "\n",
    "for x,y in zip(FED['FATHER_HI_EDU_DESC'],FED['Attrition Percentage']):\n",
    "    label = \"{:.2f}\".format(y)\n",
    "    plt.annotate(label,(x,y),textcoords=\"offset points\",xytext=(0,10),ha='center')\n",
    "\n",
    "plt.tight_layout()\n",
    "plt.show()\n",
    "f.savefig('Fathers education Vs Attrition.jpeg')"
   ]
  },
  {
   "cell_type": "markdown",
   "metadata": {},
   "source": [
    "Most of the students' fathers have education above high school level. The attrition rates for students of fathers whose education is below high school level are more than the other students."
   ]
  },
  {
   "cell_type": "code",
   "execution_count": 68,
   "metadata": {},
   "outputs": [
    {
     "data": {
      "text/html": [
       "<div>\n",
       "<style scoped>\n",
       "    .dataframe tbody tr th:only-of-type {\n",
       "        vertical-align: middle;\n",
       "    }\n",
       "\n",
       "    .dataframe tbody tr th {\n",
       "        vertical-align: top;\n",
       "    }\n",
       "\n",
       "    .dataframe thead th {\n",
       "        text-align: right;\n",
       "    }\n",
       "</style>\n",
       "<table border=\"1\" class=\"dataframe\">\n",
       "  <thead>\n",
       "    <tr style=\"text-align: right;\">\n",
       "      <th></th>\n",
       "      <th>MOTHER_HI_EDU_DESC</th>\n",
       "      <th>STDNT_LEFT</th>\n",
       "      <th>No of attrition</th>\n",
       "      <th>Total no. of students</th>\n",
       "      <th>Attrition Percentage</th>\n",
       "    </tr>\n",
       "  </thead>\n",
       "  <tbody>\n",
       "    <tr>\n",
       "      <th>4</th>\n",
       "      <td>Other/Unknown</td>\n",
       "      <td>1</td>\n",
       "      <td>18</td>\n",
       "      <td>117</td>\n",
       "      <td>15.0</td>\n",
       "    </tr>\n",
       "    <tr>\n",
       "      <th>0</th>\n",
       "      <td>College/Beyond</td>\n",
       "      <td>1</td>\n",
       "      <td>299</td>\n",
       "      <td>1496</td>\n",
       "      <td>20.0</td>\n",
       "    </tr>\n",
       "    <tr>\n",
       "      <th>1</th>\n",
       "      <td>High School</td>\n",
       "      <td>1</td>\n",
       "      <td>265</td>\n",
       "      <td>1223</td>\n",
       "      <td>22.0</td>\n",
       "    </tr>\n",
       "    <tr>\n",
       "      <th>2</th>\n",
       "      <td>Middle School/Junior High</td>\n",
       "      <td>1</td>\n",
       "      <td>16</td>\n",
       "      <td>71</td>\n",
       "      <td>23.0</td>\n",
       "    </tr>\n",
       "    <tr>\n",
       "      <th>3</th>\n",
       "      <td>No Information</td>\n",
       "      <td>1</td>\n",
       "      <td>123</td>\n",
       "      <td>489</td>\n",
       "      <td>25.0</td>\n",
       "    </tr>\n",
       "  </tbody>\n",
       "</table>\n",
       "</div>"
      ],
      "text/plain": [
       "          MOTHER_HI_EDU_DESC  STDNT_LEFT  No of attrition  \\\n",
       "4              Other/Unknown           1               18   \n",
       "0             College/Beyond           1              299   \n",
       "1                High School           1              265   \n",
       "2  Middle School/Junior High           1               16   \n",
       "3             No Information           1              123   \n",
       "\n",
       "   Total no. of students  Attrition Percentage  \n",
       "4                    117                  15.0  \n",
       "0                   1496                  20.0  \n",
       "1                   1223                  22.0  \n",
       "2                     71                  23.0  \n",
       "3                    489                  25.0  "
      ]
     },
     "execution_count": 68,
     "metadata": {},
     "output_type": "execute_result"
    }
   ],
   "source": [
    "MED1=att.groupby(['MOTHER_HI_EDU_DESC','STDNT_LEFT'],as_index=False)['STUDENT IDENTIFIER'].agg('count')\n",
    "MED2=att.groupby('MOTHER_HI_EDU_DESC',as_index=False)['STUDENT IDENTIFIER'].agg('count')\n",
    "MED=pd.merge(MED1,MED2,how='outer',on='MOTHER_HI_EDU_DESC')\n",
    "MED=MED.query(\"STDNT_LEFT==1\")\n",
    "MED['Attrition Percentage']=round((MED['STUDENT IDENTIFIER_x']/MED['STUDENT IDENTIFIER_y'])*100,0)\n",
    "MED.rename(columns={\"STUDENT IDENTIFIER_x\":\"No of attrition\",\"STUDENT IDENTIFIER_y\":\"Total no. of students\"},inplace=True)\n",
    "ind=[]\n",
    "for i in range(len(FED.index)): ind=ind+[i] \n",
    "MED.index=ind\n",
    "MED.sort_values('Attrition Percentage')"
   ]
  },
  {
   "cell_type": "code",
   "execution_count": 69,
   "metadata": {},
   "outputs": [
    {
     "data": {
      "image/png": "[encoded data removed]",
      "text/plain": [
       "<Figure size 1008x576 with 2 Axes>"
      ]
     },
     "metadata": {
      "needs_background": "light"
     },
     "output_type": "display_data"
    }
   ],
   "source": [
    "f, axs = plt.subplots(1,2,figsize=(14,8))\n",
    "\n",
    "plt.subplot(1,2, 1) \n",
    "\n",
    "plt.bar(MED['MOTHER_HI_EDU_DESC'],MED['Total no. of students'],width=0.5,color='pink')\n",
    "plt.title('Mothers education Vs No.of Students')\n",
    "plt.xlabel('Mothers education')\n",
    "plt.ylabel('No. of Stdnts')\n",
    "plt.xticks(rotation=90)\n",
    "\n",
    "for x,y in zip(MED['MOTHER_HI_EDU_DESC'],MED['Total no. of students']):\n",
    "    label = \"{:.2f}\".format(y)\n",
    "    plt.annotate(label,(x,y),textcoords=\"offset points\",xytext=(0,10),ha='center')\n",
    "\n",
    "plt.subplot(1,2, 2)\n",
    "\n",
    "plt.bar(MED['MOTHER_HI_EDU_DESC'],MED['Attrition Percentage'],width=0.5,color='cyan')\n",
    "plt.title('Mothers education Vs Attrition percentage')\n",
    "plt.xlabel('Mothers education')\n",
    "plt.ylabel('Attrition Percentage')\n",
    "plt.xticks(rotation=90)\n",
    "\n",
    "for x,y in zip(MED['MOTHER_HI_EDU_DESC'],MED['Attrition Percentage']):\n",
    "    label = \"{:.2f}\".format(y)\n",
    "    plt.annotate(label,(x,y),textcoords=\"offset points\",xytext=(0,10),ha='center')\n",
    "\n",
    "plt.tight_layout()\n",
    "plt.show()\n",
    "f.savefig('Mothers education Vs Attrition.jpeg')"
   ]
  },
  {
   "cell_type": "markdown",
   "metadata": {},
   "source": [
    "Most of the students' mothers have education above high school level. The attrition rates for students of mothers whose education is below high school level are more than the other students."
   ]
  },
  {
   "cell_type": "code",
   "execution_count": 70,
   "metadata": {},
   "outputs": [
    {
     "data": {
      "image/png": "[encoded data removed]",
      "text/plain": [
       "<Figure size 790x720 with 20 Axes>"
      ]
     },
     "metadata": {
      "needs_background": "light"
     },
     "output_type": "display_data"
    }
   ],
   "source": [
    "sns.pairplot(att,x_vars=['GROSS_FIN_NEED', 'COST_OF_ATTEND', 'EST_FAM_CONTRIBUTION','UNMET_NEED'],\n",
    "             y_vars=['GROSS_FIN_NEED', 'COST_OF_ATTEND', 'EST_FAM_CONTRIBUTION','UNMET_NEED'],kind='scatter',diag_kind='hist',\n",
    "             hue='STDNT_LEFT')\n",
    "plt.tight_layout()\n",
    "plt.savefig('Financial variables - Pairplot.jpeg')"
   ]
  },
  {
   "cell_type": "markdown",
   "metadata": {},
   "source": [
    "Inferences from Pairplots\n",
    "\n",
    "1. As Gross financial need increases, the unmet need of the student increases. There is no clear difference seen between students who atrite and those who do not.\n",
    "2. As Gross financial need increases, the estimated family contribution decreases. There is no clear difference seen between students who atrite and those who do not.\n",
    "3. As the course fees increases, obviously the gross financial need increases. Again, there is no clear difference seen between students who atrite and those who do not.\n",
    "4. With increase in the course fees, the estimated family contribution is lesser for the students who attrite than for the students who continue the course. So Higher fess and low family contribution can be a reason for attrition.\n",
    "5. Course fees for most of the courses lie around 1000000. \n"
   ]
  },
  {
   "cell_type": "markdown",
   "metadata": {},
   "source": [
    "#### Co relation plot"
   ]
  },
  {
   "cell_type": "code",
   "execution_count": 71,
   "metadata": {},
   "outputs": [
    {
     "data": {
      "image/png": "[encoded data removed]",
      "text/plain": [
       "<Figure size 432x288 with 2 Axes>"
      ]
     },
     "metadata": {
      "needs_background": "light"
     },
     "output_type": "display_data"
    }
   ],
   "source": [
    "sns.heatmap(att.corr(),annot=True)\n",
    "plt.title('Corelation Plot')\n",
    "\n",
    "plt.savefig('Corelation Plot.jpeg')"
   ]
  },
  {
   "cell_type": "markdown",
   "metadata": {},
   "source": [
    "From the pairplots and the co-relation plot, we can see that there is a strong co-relation between \n",
    "Gross financial need & Course fees and Gross financial need & unmet need.\n",
    "Therefore, dropping variable 'GROSS_FIN_NEED'"
   ]
  },
  {
   "cell_type": "code",
   "execution_count": 72,
   "metadata": {},
   "outputs": [],
   "source": [
    "att=att.drop('GROSS_FIN_NEED',axis=1)"
   ]
  },
  {
   "cell_type": "markdown",
   "metadata": {},
   "source": [
    "### Model building"
   ]
  },
  {
   "cell_type": "markdown",
   "metadata": {},
   "source": [
    "#### Creating dummy variables"
   ]
  },
  {
   "cell_type": "code",
   "execution_count": 73,
   "metadata": {},
   "outputs": [],
   "source": [
    "att=pd.get_dummies(att)"
   ]
  },
  {
   "cell_type": "code",
   "execution_count": 74,
   "metadata": {},
   "outputs": [
    {
     "data": {
      "text/html": [
       "<div>\n",
       "<style scoped>\n",
       "    .dataframe tbody tr th:only-of-type {\n",
       "        vertical-align: middle;\n",
       "    }\n",
       "\n",
       "    .dataframe tbody tr th {\n",
       "        vertical-align: top;\n",
       "    }\n",
       "\n",
       "    .dataframe thead th {\n",
       "        text-align: right;\n",
       "    }\n",
       "</style>\n",
       "<table border=\"1\" class=\"dataframe\">\n",
       "  <thead>\n",
       "    <tr style=\"text-align: right;\">\n",
       "      <th></th>\n",
       "      <th>STUDENT IDENTIFIER</th>\n",
       "      <th>STDNT_TEST_ENTRANCE_COMB</th>\n",
       "      <th>HIGH_SCHL_GPA</th>\n",
       "      <th>COST_OF_ATTEND</th>\n",
       "      <th>EST_FAM_CONTRIBUTION</th>\n",
       "      <th>UNMET_NEED</th>\n",
       "      <th>STDNT_LEFT</th>\n",
       "      <th>FIRST_TERM_PERFORMANCE</th>\n",
       "      <th>SECOND_TERM_PERFORMANCE</th>\n",
       "      <th>STDNT_AGE_16to18</th>\n",
       "      <th>...</th>\n",
       "      <th>FATHER_HI_EDU_DESC_No Information</th>\n",
       "      <th>FATHER_HI_EDU_DESC_Other/Unknown</th>\n",
       "      <th>MOTHER_HI_EDU_DESC_College/Beyond</th>\n",
       "      <th>MOTHER_HI_EDU_DESC_High School</th>\n",
       "      <th>MOTHER_HI_EDU_DESC_Middle School/Junior High</th>\n",
       "      <th>MOTHER_HI_EDU_DESC_No Information</th>\n",
       "      <th>MOTHER_HI_EDU_DESC_Other/Unknown</th>\n",
       "      <th>DEGREE_GROUP_DESC_Associate</th>\n",
       "      <th>DEGREE_GROUP_DESC_Bachelors</th>\n",
       "      <th>DEGREE_GROUP_DESC_Career Associate</th>\n",
       "    </tr>\n",
       "  </thead>\n",
       "  <tbody>\n",
       "    <tr>\n",
       "      <th>0</th>\n",
       "      <td>7808615</td>\n",
       "      <td>1150.0</td>\n",
       "      <td>4.00</td>\n",
       "      <td>0</td>\n",
       "      <td>0</td>\n",
       "      <td>0.0</td>\n",
       "      <td>1</td>\n",
       "      <td>1.0</td>\n",
       "      <td>1.0</td>\n",
       "      <td>1</td>\n",
       "      <td>...</td>\n",
       "      <td>1</td>\n",
       "      <td>0</td>\n",
       "      <td>0</td>\n",
       "      <td>0</td>\n",
       "      <td>0</td>\n",
       "      <td>1</td>\n",
       "      <td>0</td>\n",
       "      <td>0</td>\n",
       "      <td>1</td>\n",
       "      <td>0</td>\n",
       "    </tr>\n",
       "    <tr>\n",
       "      <th>1</th>\n",
       "      <td>7830063</td>\n",
       "      <td>1190.0</td>\n",
       "      <td>2.89</td>\n",
       "      <td>1355760</td>\n",
       "      <td>785760</td>\n",
       "      <td>459300.0</td>\n",
       "      <td>0</td>\n",
       "      <td>1.0</td>\n",
       "      <td>1.0</td>\n",
       "      <td>0</td>\n",
       "      <td>...</td>\n",
       "      <td>0</td>\n",
       "      <td>0</td>\n",
       "      <td>1</td>\n",
       "      <td>0</td>\n",
       "      <td>0</td>\n",
       "      <td>0</td>\n",
       "      <td>0</td>\n",
       "      <td>0</td>\n",
       "      <td>1</td>\n",
       "      <td>0</td>\n",
       "    </tr>\n",
       "    <tr>\n",
       "      <th>2</th>\n",
       "      <td>7847538</td>\n",
       "      <td>1030.0</td>\n",
       "      <td>3.39</td>\n",
       "      <td>0</td>\n",
       "      <td>0</td>\n",
       "      <td>0.0</td>\n",
       "      <td>0</td>\n",
       "      <td>1.0</td>\n",
       "      <td>1.0</td>\n",
       "      <td>1</td>\n",
       "      <td>...</td>\n",
       "      <td>0</td>\n",
       "      <td>0</td>\n",
       "      <td>0</td>\n",
       "      <td>0</td>\n",
       "      <td>0</td>\n",
       "      <td>0</td>\n",
       "      <td>1</td>\n",
       "      <td>0</td>\n",
       "      <td>1</td>\n",
       "      <td>0</td>\n",
       "    </tr>\n",
       "    <tr>\n",
       "      <th>3</th>\n",
       "      <td>8006429</td>\n",
       "      <td>1220.0</td>\n",
       "      <td>2.93</td>\n",
       "      <td>0</td>\n",
       "      <td>0</td>\n",
       "      <td>0.0</td>\n",
       "      <td>0</td>\n",
       "      <td>1.0</td>\n",
       "      <td>1.0</td>\n",
       "      <td>1</td>\n",
       "      <td>...</td>\n",
       "      <td>0</td>\n",
       "      <td>0</td>\n",
       "      <td>1</td>\n",
       "      <td>0</td>\n",
       "      <td>0</td>\n",
       "      <td>0</td>\n",
       "      <td>0</td>\n",
       "      <td>0</td>\n",
       "      <td>1</td>\n",
       "      <td>0</td>\n",
       "    </tr>\n",
       "    <tr>\n",
       "      <th>4</th>\n",
       "      <td>7962680</td>\n",
       "      <td>1190.0</td>\n",
       "      <td>3.86</td>\n",
       "      <td>1355760</td>\n",
       "      <td>519840</td>\n",
       "      <td>278340.0</td>\n",
       "      <td>0</td>\n",
       "      <td>1.0</td>\n",
       "      <td>1.0</td>\n",
       "      <td>1</td>\n",
       "      <td>...</td>\n",
       "      <td>0</td>\n",
       "      <td>0</td>\n",
       "      <td>0</td>\n",
       "      <td>1</td>\n",
       "      <td>0</td>\n",
       "      <td>0</td>\n",
       "      <td>0</td>\n",
       "      <td>0</td>\n",
       "      <td>1</td>\n",
       "      <td>0</td>\n",
       "    </tr>\n",
       "  </tbody>\n",
       "</table>\n",
       "<p>5 rows × 52 columns</p>\n",
       "</div>"
      ],
      "text/plain": [
       "   STUDENT IDENTIFIER  STDNT_TEST_ENTRANCE_COMB  HIGH_SCHL_GPA  \\\n",
       "0             7808615                    1150.0           4.00   \n",
       "1             7830063                    1190.0           2.89   \n",
       "2             7847538                    1030.0           3.39   \n",
       "3             8006429                    1220.0           2.93   \n",
       "4             7962680                    1190.0           3.86   \n",
       "\n",
       "   COST_OF_ATTEND  EST_FAM_CONTRIBUTION  UNMET_NEED  STDNT_LEFT  \\\n",
       "0               0                     0         0.0           1   \n",
       "1         1355760                785760    459300.0           0   \n",
       "2               0                     0         0.0           0   \n",
       "3               0                     0         0.0           0   \n",
       "4         1355760                519840    278340.0           0   \n",
       "\n",
       "   FIRST_TERM_PERFORMANCE  SECOND_TERM_PERFORMANCE  STDNT_AGE_16to18  ...  \\\n",
       "0                     1.0                      1.0                 1  ...   \n",
       "1                     1.0                      1.0                 0  ...   \n",
       "2                     1.0                      1.0                 1  ...   \n",
       "3                     1.0                      1.0                 1  ...   \n",
       "4                     1.0                      1.0                 1  ...   \n",
       "\n",
       "   FATHER_HI_EDU_DESC_No Information  FATHER_HI_EDU_DESC_Other/Unknown  \\\n",
       "0                                  1                                 0   \n",
       "1                                  0                                 0   \n",
       "2                                  0                                 0   \n",
       "3                                  0                                 0   \n",
       "4                                  0                                 0   \n",
       "\n",
       "   MOTHER_HI_EDU_DESC_College/Beyond  MOTHER_HI_EDU_DESC_High School  \\\n",
       "0                                  0                               0   \n",
       "1                                  1                               0   \n",
       "2                                  0                               0   \n",
       "3                                  1                               0   \n",
       "4                                  0                               1   \n",
       "\n",
       "   MOTHER_HI_EDU_DESC_Middle School/Junior High  \\\n",
       "0                                             0   \n",
       "1                                             0   \n",
       "2                                             0   \n",
       "3                                             0   \n",
       "4                                             0   \n",
       "\n",
       "   MOTHER_HI_EDU_DESC_No Information  MOTHER_HI_EDU_DESC_Other/Unknown  \\\n",
       "0                                  1                                 0   \n",
       "1                                  0                                 0   \n",
       "2                                  0                                 1   \n",
       "3                                  0                                 0   \n",
       "4                                  0                                 0   \n",
       "\n",
       "   DEGREE_GROUP_DESC_Associate  DEGREE_GROUP_DESC_Bachelors  \\\n",
       "0                            0                            1   \n",
       "1                            0                            1   \n",
       "2                            0                            1   \n",
       "3                            0                            1   \n",
       "4                            0                            1   \n",
       "\n",
       "   DEGREE_GROUP_DESC_Career Associate  \n",
       "0                                   0  \n",
       "1                                   0  \n",
       "2                                   0  \n",
       "3                                   0  \n",
       "4                                   0  \n",
       "\n",
       "[5 rows x 52 columns]"
      ]
     },
     "execution_count": 74,
     "metadata": {},
     "output_type": "execute_result"
    }
   ],
   "source": [
    "att.head()"
   ]
  },
  {
   "cell_type": "markdown",
   "metadata": {},
   "source": [
    "Splitting the dependent and independent variables"
   ]
  },
  {
   "cell_type": "code",
   "execution_count": 75,
   "metadata": {},
   "outputs": [],
   "source": [
    "X=att.drop(['STUDENT IDENTIFIER','STDNT_LEFT'],axis=1)"
   ]
  },
  {
   "cell_type": "code",
   "execution_count": 76,
   "metadata": {},
   "outputs": [],
   "source": [
    "y=att['STDNT_LEFT']"
   ]
  },
  {
   "cell_type": "markdown",
   "metadata": {},
   "source": [
    "#### Gradient Boosting Classifier"
   ]
  },
  {
   "cell_type": "markdown",
   "metadata": {},
   "source": [
    "Splitting data into training and test datasets in 80:20 ratio."
   ]
  },
  {
   "cell_type": "code",
   "execution_count": 77,
   "metadata": {},
   "outputs": [],
   "source": [
    "from sklearn.model_selection import train_test_split"
   ]
  },
  {
   "cell_type": "code",
   "execution_count": 78,
   "metadata": {},
   "outputs": [],
   "source": [
    "X_train,X_test,y_train,y_test=train_test_split(X,y,test_size=0.2,random_state=123)"
   ]
  },
  {
   "cell_type": "markdown",
   "metadata": {},
   "source": [
    "Running the model"
   ]
  },
  {
   "cell_type": "code",
   "execution_count": 79,
   "metadata": {},
   "outputs": [
    {
     "data": {
      "text/plain": [
       "GradientBoostingClassifier(ccp_alpha=0.0, criterion='friedman_mse', init=None,\n",
       "                           learning_rate=0.1, loss='deviance', max_depth=3,\n",
       "                           max_features=None, max_leaf_nodes=None,\n",
       "                           min_impurity_decrease=0.0, min_impurity_split=None,\n",
       "                           min_samples_leaf=1, min_samples_split=2,\n",
       "                           min_weight_fraction_leaf=0.0, n_estimators=80,\n",
       "                           n_iter_no_change=None, presort='deprecated',\n",
       "                           random_state=123, subsample=1.0, tol=0.0001,\n",
       "                           validation_fraction=0.1, verbose=0,\n",
       "                           warm_start=False)"
      ]
     },
     "execution_count": 79,
     "metadata": {},
     "output_type": "execute_result"
    }
   ],
   "source": [
    "from sklearn.ensemble import GradientBoostingClassifier\n",
    "clf=GradientBoostingClassifier(n_estimators=80,random_state=123)\n",
    "clf.fit(X_train,y_train)"
   ]
  },
  {
   "cell_type": "code",
   "execution_count": 80,
   "metadata": {},
   "outputs": [
    {
     "data": {
      "text/plain": [
       "0.8382352941176471"
      ]
     },
     "execution_count": 80,
     "metadata": {},
     "output_type": "execute_result"
    }
   ],
   "source": [
    "clf.score(X_test,y_test)"
   ]
  },
  {
   "cell_type": "markdown",
   "metadata": {},
   "source": [
    "The model predicts the output correctly almost 84% of the times"
   ]
  },
  {
   "cell_type": "markdown",
   "metadata": {},
   "source": [
    "##### Making a grid search to find the best number of estimators"
   ]
  },
  {
   "cell_type": "code",
   "execution_count": 81,
   "metadata": {},
   "outputs": [
    {
     "name": "stdout",
     "output_type": "stream",
     "text": [
      "For n_estimators = 10\n",
      "score is 0.8308823529411765\n",
      "************************\n",
      "For n_estimators = 30\n",
      "score is 0.836764705882353\n",
      "************************\n",
      "For n_estimators = 50\n",
      "score is 0.8352941176470589\n",
      "************************\n",
      "For n_estimators = 70\n",
      "score is 0.836764705882353\n",
      "************************\n",
      "For n_estimators = 90\n",
      "score is 0.8382352941176471\n",
      "************************\n",
      "For n_estimators = 110\n",
      "score is 0.8352941176470589\n",
      "************************\n",
      "For n_estimators = 130\n",
      "score is 0.8352941176470589\n",
      "************************\n",
      "For n_estimators = 150\n",
      "score is 0.8352941176470589\n",
      "************************\n",
      "For n_estimators = 170\n",
      "score is 0.8323529411764706\n",
      "************************\n",
      "For n_estimators = 190\n",
      "score is 0.836764705882353\n",
      "************************\n",
      "For n_estimators = 210\n",
      "score is 0.8382352941176471\n",
      "************************\n",
      "For n_estimators = 230\n",
      "score is 0.836764705882353\n",
      "************************\n",
      "For n_estimators = 250\n",
      "score is 0.836764705882353\n",
      "************************\n",
      "For n_estimators = 270\n",
      "score is 0.8338235294117647\n",
      "************************\n",
      "For n_estimators = 290\n",
      "score is 0.8352941176470589\n",
      "************************\n"
     ]
    }
   ],
   "source": [
    "for w in range(10,300,20):\n",
    "    clf=GradientBoostingClassifier(n_estimators=w,random_state=123)\n",
    "    clf.fit(X_train,y_train)\n",
    "    score=clf.score(X_test,y_test)\n",
    "    print('For n_estimators = '+str(w))\n",
    "    print('score is '+str(score))\n",
    "    print('************************')"
   ]
  },
  {
   "cell_type": "markdown",
   "metadata": {},
   "source": [
    "The score for 210 estimators seems to be more. Therefore running the model with n_estimators = 210"
   ]
  },
  {
   "cell_type": "code",
   "execution_count": 82,
   "metadata": {},
   "outputs": [
    {
     "data": {
      "text/plain": [
       "GradientBoostingClassifier(ccp_alpha=0.0, criterion='friedman_mse', init=None,\n",
       "                           learning_rate=0.1, loss='deviance', max_depth=3,\n",
       "                           max_features=None, max_leaf_nodes=None,\n",
       "                           min_impurity_decrease=0.0, min_impurity_split=None,\n",
       "                           min_samples_leaf=1, min_samples_split=2,\n",
       "                           min_weight_fraction_leaf=0.0, n_estimators=210,\n",
       "                           n_iter_no_change=None, presort='deprecated',\n",
       "                           random_state=123, subsample=1.0, tol=0.0001,\n",
       "                           validation_fraction=0.1, verbose=0,\n",
       "                           warm_start=False)"
      ]
     },
     "execution_count": 82,
     "metadata": {},
     "output_type": "execute_result"
    }
   ],
   "source": [
    "clf=GradientBoostingClassifier(n_estimators=210,random_state=123)\n",
    "clf.fit(X_train,y_train)"
   ]
  },
  {
   "cell_type": "code",
   "execution_count": 83,
   "metadata": {},
   "outputs": [
    {
     "data": {
      "text/plain": [
       "0.8382352941176471"
      ]
     },
     "execution_count": 83,
     "metadata": {},
     "output_type": "execute_result"
    }
   ],
   "source": [
    "clf.score(X_test,y_test)"
   ]
  },
  {
   "cell_type": "markdown",
   "metadata": {},
   "source": [
    "### Model Validation"
   ]
  },
  {
   "cell_type": "markdown",
   "metadata": {},
   "source": [
    "#### Area Under the Curve and Confusion Matrix"
   ]
  },
  {
   "cell_type": "code",
   "execution_count": 84,
   "metadata": {},
   "outputs": [
    {
     "name": "stdout",
     "output_type": "stream",
     "text": [
      "The AUC for the model : 0.7004100529100528\n",
      "\n",
      "\n",
      "Confusion matrix : \n",
      " [[524  16]\n",
      " [ 94  46]]\n"
     ]
    }
   ],
   "source": [
    "from sklearn import metrics\n",
    "y_pred = clf.predict(X_test)\n",
    "print('The AUC for the model :',str(metrics.roc_auc_score(y_test,clf.predict_proba(X_test)[:,1])))\n",
    "print('\\n')\n",
    "print('Confusion matrix :','\\n',str(metrics.confusion_matrix(y_test,y_pred)))"
   ]
  },
  {
   "cell_type": "markdown",
   "metadata": {},
   "source": [
    "#### Plotting the ROC curve"
   ]
  },
  {
   "cell_type": "code",
   "execution_count": 85,
   "metadata": {},
   "outputs": [
    {
     "data": {
      "image/png": "[encoded data removed]",
      "text/plain": [
       "<Figure size 432x288 with 1 Axes>"
      ]
     },
     "metadata": {
      "needs_background": "light"
     },
     "output_type": "display_data"
    }
   ],
   "source": [
    "from sklearn.metrics import plot_roc_curve\n",
    "svc_disp = plot_roc_curve(clf, X_test, y_test)\n",
    "plt.title('ROC curve')\n",
    "plt.savefig('ROC Curve.jpeg')\n",
    "plt.show()"
   ]
  },
  {
   "cell_type": "markdown",
   "metadata": {},
   "source": [
    "#### Finding the feature importances and finding the facors which affect student attrition the most"
   ]
  },
  {
   "cell_type": "code",
   "execution_count": 86,
   "metadata": {},
   "outputs": [],
   "source": [
    "imp=clf.feature_importances_"
   ]
  },
  {
   "cell_type": "code",
   "execution_count": 87,
   "metadata": {},
   "outputs": [
    {
     "data": {
      "text/plain": [
       "SECOND_TERM_PERFORMANCE                         0.481668\n",
       "UNMET_NEED                                      0.101552\n",
       "HIGH_SCHL_GPA                                   0.069009\n",
       "EST_FAM_CONTRIBUTION                            0.058362\n",
       "STDNT_TEST_ENTRANCE_COMB                        0.043160\n",
       "COST_OF_ATTEND                                  0.041718\n",
       "FIRST_TERM_PERFORMANCE                          0.039473\n",
       "HOUSING_STS_On Campus                           0.009679\n",
       "STDNT_BACKGROUND_BGD 1                          0.007811\n",
       "STDNT_MAJOR_Theatre Arts                        0.007759\n",
       "STDNT_BACKGROUND_BGD 3                          0.007531\n",
       "STDNT_MAJOR_Music Performance                   0.007269\n",
       "STDNT_BACKGROUND_BGD 4                          0.007197\n",
       "STDNT_MAJOR_Music Education                     0.006610\n",
       "FATHER_HI_EDU_DESC_Middle School/Junior High    0.006523\n",
       "STDNT_MAJOR_Biology                             0.006516\n",
       "HOUSING_STS_Off Campus                          0.006232\n",
       "STDNT_MAJOR_Criminal Justice                    0.005973\n",
       "STDNT_MAJOR_Psychology                          0.005839\n",
       "MOTHER_HI_EDU_DESC_No Information               0.005808\n",
       "STDNT_MAJOR_Pre-Nursing                         0.005353\n",
       "FATHER_HI_EDU_DESC_Other/Unknown                0.005172\n",
       "FATHER_HI_EDU_DESC_College/Beyond               0.005103\n",
       "STDNT_GENDER_F                                  0.004904\n",
       "INTERNATIONAL_STS_N                             0.004713\n",
       "STDNT_MAJOR_Early Childhood Education           0.004573\n",
       "STDNT_BACKGROUND_BGD 5                          0.004345\n",
       "STDNT_MAJOR_Pre-Business                        0.004138\n",
       "MOTHER_HI_EDU_DESC_Middle School/Junior High    0.003438\n",
       "IN_STATE_FLAG_Y                                 0.003231\n",
       "STDNT_MAJOR_Others                              0.003188\n",
       "FATHER_HI_EDU_DESC_High School                  0.003123\n",
       "MOTHER_HI_EDU_DESC_High School                  0.002835\n",
       "MOTHER_HI_EDU_DESC_College/Beyond               0.002804\n",
       "STDNT_BACKGROUND_BGD 6                          0.002644\n",
       "MOTHER_HI_EDU_DESC_Other/Unknown                0.002477\n",
       "STDNT_AGE_19to21                                0.002043\n",
       "INTERNATIONAL_STS_Y                             0.001585\n",
       "STDNT_AGE_16to18                                0.001511\n",
       "STDNT_MAJOR_Nursing                             0.001391\n",
       "STDNT_GENDER_M                                  0.001254\n",
       "DEGREE_GROUP_DESC_Associate                     0.000918\n",
       "IN_STATE_FLAG_N                                 0.000791\n",
       "STDNT_BACKGROUND_BGD 7                          0.000753\n",
       "DEGREE_GROUP_DESC_Career Associate              0.000568\n",
       "STDNT_AGE_22to26                                0.000514\n",
       "DEGREE_GROUP_DESC_Bachelors                     0.000477\n",
       "FATHER_HI_EDU_DESC_No Information               0.000425\n",
       "STDNT_BACKGROUND_BGD 2                          0.000040\n",
       "STDNT_BACKGROUND_BGD 8                          0.000000\n",
       "dtype: float64"
      ]
     },
     "execution_count": 87,
     "metadata": {},
     "output_type": "execute_result"
    }
   ],
   "source": [
    "feature_importance=pd.Series(imp,index=X.columns.tolist()).sort_values(ascending=False)\n",
    "feature_importance"
   ]
  },
  {
   "cell_type": "markdown",
   "metadata": {},
   "source": [
    "##### Feature Importances plot"
   ]
  },
  {
   "cell_type": "code",
   "execution_count": 88,
   "metadata": {},
   "outputs": [
    {
     "data": {
      "image/png": "[encoded data removed]",
      "text/plain": [
       "<Figure size 432x288 with 1 Axes>"
      ]
     },
     "metadata": {
      "needs_background": "light"
     },
     "output_type": "display_data"
    }
   ],
   "source": [
    "feature_importance.head().plot(kind='barh')\n",
    "plt.title('Key Drivers of early attrition')\n",
    "plt.xlabel('Factors affecting attrition')\n",
    "plt.ylabel('Feature Importance')\n",
    "plt.tight_layout()\n",
    "plt.savefig('Key Drivers of early attrition')"
   ]
  },
  {
   "cell_type": "markdown",
   "metadata": {},
   "source": [
    "### Interpretations and recommended interventions"
   ]
  },
  {
   "cell_type": "markdown",
   "metadata": {},
   "source": [
    "1. From the model results it is seen that the performance of the students right from the high school to the second term in the university, highly affect the student attrition. The teachers and parents should encourage the students to perform well and provide the required assistance to the students, right from school, so that they do not leave the university withput completing their course.\n",
    "\n",
    "2. Next to the Student performance, the financial status (unmet need and estimated family contribution) of the students determine their possibilty of attrition. The University might identify student s performing well and provide them with financial assistance in the form of scholarships or sponsors, in collaboration with the government or NGO's if needed.\n",
    "\n",
    "3. Other inferences from analysing the feature importances are \n",
    "    1. The feature importance for the GENDER_F is more than that of GENDER_M, implying that female students are more likely to   attrite.\n",
    "    2. The feature importance is more when the education background of the parents is 'Middle School/Junior High' than other          education backgrounds.\n",
    "    \n",
    "The univesity may identify these students and pay special attention in providing them required assistance."
   ]
  }
 ],
 "metadata": {
  "kernelspec": {
   "display_name": "Python 3",
   "language": "python",
   "name": "python3"
  },
  "language_info": {
   "codemirror_mode": {
    "name": "ipython",
    "version": 3
   },
   "file_extension": ".py",
   "mimetype": "text/x-python",
   "name": "python",
   "nbconvert_exporter": "python",
   "pygments_lexer": "ipython3",
   "version": "3.7.3"
  }
 },
 "nbformat": 4,
 "nbformat_minor": 2
}
